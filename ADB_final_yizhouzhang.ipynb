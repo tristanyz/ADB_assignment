{
 "cells": [
  {
   "cell_type": "markdown",
   "metadata": {
    "application/vnd.databricks.v1+cell": {
     "cellMetadata": {},
     "inputWidgets": {},
     "nuid": "127ea565-ea0b-4581-962e-2084f809db4f",
     "showTitle": false,
     "title": ""
    }
   },
   "source": [
    "# First define data paths"
   ]
  },
  {
   "cell_type": "code",
   "execution_count": 0,
   "metadata": {
    "application/vnd.databricks.v1+cell": {
     "cellMetadata": {
      "byteLimit": 2048000,
      "rowLimit": 10000
     },
     "inputWidgets": {},
     "nuid": "edf27fb0-1dc0-4790-9dfb-6612a715170f",
     "showTitle": false,
     "title": ""
    }
   },
   "outputs": [],
   "source": [
    "#create all the folders needed\n",
    "'''\n",
    "classicPipelinePath = 'dbfs:/FileStore/ABD_assignment/'\n",
    "rawPath = classicPipelinePath + \"raw\"\n",
    "bronzePath = classicPipelinePath + \"bronze\"\n",
    "silverPath = classicPipelinePath + \"silver\"\n",
    "goldPath = classicPipelinePath + \"gold\"\n",
    "dbutils.fs.mkdirs(rawPath)\n",
    "dbutils.fs.mkdirs(bronzePath)\n",
    "dbutils.fs.mkdirs(silverPath)\n",
    "dbutils.fs.mkdirs(goldPath)\n",
    "'''\n",
    "#folders created\n",
    "\n",
    "#define the data paths\n",
    "classicPipelinePath = 'dbfs:/FileStore/ABD_assignment/'\n",
    "rawPath = classicPipelinePath + \"raw/\"\n",
    "bronzePath = classicPipelinePath + \"bronze/\"\n",
    "silverPath = classicPipelinePath + \"silver/\"\n",
    "goldPath = classicPipelinePath + \"gold/\""
   ]
  },
  {
   "cell_type": "code",
   "execution_count": 0,
   "metadata": {
    "application/vnd.databricks.v1+cell": {
     "cellMetadata": {
      "byteLimit": 2048000,
      "rowLimit": 10000
     },
     "inputWidgets": {},
     "nuid": "5800dbae-7143-4494-b69a-7effac48f85f",
     "showTitle": false,
     "title": ""
    }
   },
   "outputs": [
    {
     "output_type": "stream",
     "name": "stdout",
     "output_type": "stream",
     "text": [
      "Out[6]: DataFrame[]"
     ]
    }
   ],
   "source": [
    "#create database in hive_metastore\n",
    "spark.sql(f\"CREATE DATABASE IF NOT EXISTS antra_tristan\")\n",
    "spark.sql(f\"USE antra_tristan\")"
   ]
  },
  {
   "cell_type": "code",
   "execution_count": 0,
   "metadata": {
    "application/vnd.databricks.v1+cell": {
     "cellMetadata": {
      "byteLimit": 2048000,
      "rowLimit": 10000
     },
     "inputWidgets": {},
     "nuid": "0649b618-3ad6-400c-8ea8-01c2ce5dcb04",
     "showTitle": false,
     "title": ""
    }
   },
   "outputs": [],
   "source": [
    "# import the required packages \n",
    "from pyspark.sql.functions import *\n",
    "from pyspark.sql.types import StructType"
   ]
  },
  {
   "cell_type": "markdown",
   "metadata": {
    "application/vnd.databricks.v1+cell": {
     "cellMetadata": {},
     "inputWidgets": {},
     "nuid": "fb218db4-fe74-4ef6-aeb1-bedcf2be10c6",
     "showTitle": false,
     "title": ""
    }
   },
   "source": [
    "# INGEST DATA"
   ]
  },
  {
   "cell_type": "code",
   "execution_count": 0,
   "metadata": {
    "application/vnd.databricks.v1+cell": {
     "cellMetadata": {
      "byteLimit": 2048000,
      "rowLimit": 10000
     },
     "inputWidgets": {},
     "nuid": "bec13616-5c7c-4a0b-9725-faa63f3e1146",
     "showTitle": false,
     "title": ""
    }
   },
   "outputs": [
    {
     "output_type": "stream",
     "name": "stdout",
     "output_type": "stream",
     "text": [
      "Out[7]: False"
     ]
    }
   ],
   "source": [
    "'''\n",
    "#Make Notebook Idempotent\n",
    "dbutils.fs.rm(classicPipelinePath, recurse=True)\n",
    "'''"
   ]
  },
  {
   "cell_type": "code",
   "execution_count": 0,
   "metadata": {
    "application/vnd.databricks.v1+cell": {
     "cellMetadata": {
      "byteLimit": 2048000,
      "rowLimit": 10000
     },
     "inputWidgets": {},
     "nuid": "bf164f32-e227-4cc7-b84d-bcbd571f6f48",
     "showTitle": false,
     "title": ""
    }
   },
   "outputs": [
    {
     "output_type": "display_data",
     "data": {
      "text/html": [
       "<style scoped>\n",
       "  .table-result-container {\n",
       "    max-height: 300px;\n",
       "    overflow: auto;\n",
       "  }\n",
       "  table, th, td {\n",
       "    border: 1px solid black;\n",
       "    border-collapse: collapse;\n",
       "  }\n",
       "  th, td {\n",
       "    padding: 5px;\n",
       "  }\n",
       "  th {\n",
       "    text-align: left;\n",
       "  }\n",
       "</style><div class='table-result-container'><table class='table-result'><thead style='background-color: white'><tr><th>path</th><th>name</th><th>size</th><th>modificationTime</th></tr></thead><tbody><tr><td>dbfs:/FileStore/ABD_assignment/raw/movie_0.json</td><td>movie_0.json</td><td>1697738</td><td>1691269305000</td></tr><tr><td>dbfs:/FileStore/ABD_assignment/raw/movie_1.json</td><td>movie_1.json</td><td>1654926</td><td>1691269305000</td></tr><tr><td>dbfs:/FileStore/ABD_assignment/raw/movie_2.json</td><td>movie_2.json</td><td>1641609</td><td>1691269309000</td></tr><tr><td>dbfs:/FileStore/ABD_assignment/raw/movie_3.json</td><td>movie_3.json</td><td>1619902</td><td>1691269309000</td></tr><tr><td>dbfs:/FileStore/ABD_assignment/raw/movie_4.json</td><td>movie_4.json</td><td>1621913</td><td>1691269311000</td></tr><tr><td>dbfs:/FileStore/ABD_assignment/raw/movie_5.json</td><td>movie_5.json</td><td>1617426</td><td>1691269311000</td></tr><tr><td>dbfs:/FileStore/ABD_assignment/raw/movie_6.json</td><td>movie_6.json</td><td>1602837</td><td>1691269313000</td></tr><tr><td>dbfs:/FileStore/ABD_assignment/raw/movie_7.json</td><td>movie_7.json</td><td>1606928</td><td>1691269313000</td></tr></tbody></table></div>"
      ]
     },
     "metadata": {
      "application/vnd.databricks.v1+output": {
       "addedWidgets": {},
       "aggData": [],
       "aggError": "",
       "aggOverflow": false,
       "aggSchema": [],
       "aggSeriesLimitReached": false,
       "aggType": "",
       "arguments": {},
       "columnCustomDisplayInfos": {},
       "data": [
        [
         "dbfs:/FileStore/ABD_assignment/raw/movie_0.json",
         "movie_0.json",
         1697738,
         1691269305000
        ],
        [
         "dbfs:/FileStore/ABD_assignment/raw/movie_1.json",
         "movie_1.json",
         1654926,
         1691269305000
        ],
        [
         "dbfs:/FileStore/ABD_assignment/raw/movie_2.json",
         "movie_2.json",
         1641609,
         1691269309000
        ],
        [
         "dbfs:/FileStore/ABD_assignment/raw/movie_3.json",
         "movie_3.json",
         1619902,
         1691269309000
        ],
        [
         "dbfs:/FileStore/ABD_assignment/raw/movie_4.json",
         "movie_4.json",
         1621913,
         1691269311000
        ],
        [
         "dbfs:/FileStore/ABD_assignment/raw/movie_5.json",
         "movie_5.json",
         1617426,
         1691269311000
        ],
        [
         "dbfs:/FileStore/ABD_assignment/raw/movie_6.json",
         "movie_6.json",
         1602837,
         1691269313000
        ],
        [
         "dbfs:/FileStore/ABD_assignment/raw/movie_7.json",
         "movie_7.json",
         1606928,
         1691269313000
        ]
       ],
       "datasetInfos": [],
       "dbfsResultPath": null,
       "isJsonSchema": true,
       "metadata": {},
       "overflow": false,
       "plotOptions": {
        "customPlotOptions": {},
        "displayType": "table",
        "pivotAggregation": null,
        "pivotColumns": null,
        "xColumns": null,
        "yColumns": null
       },
       "removedWidgets": [],
       "schema": [
        {
         "metadata": "{}",
         "name": "path",
         "type": "\"string\""
        },
        {
         "metadata": "{}",
         "name": "name",
         "type": "\"string\""
        },
        {
         "metadata": "{}",
         "name": "size",
         "type": "\"long\""
        },
        {
         "metadata": "{}",
         "name": "modificationTime",
         "type": "\"long\""
        }
       ],
       "type": "table"
      }
     },
     "output_type": "display_data"
    }
   ],
   "source": [
    "#display the raw files we need\n",
    "display(dbutils.fs.ls(rawPath))"
   ]
  },
  {
   "cell_type": "code",
   "execution_count": 0,
   "metadata": {
    "application/vnd.databricks.v1+cell": {
     "cellMetadata": {
      "byteLimit": 2048000,
      "rowLimit": 10000
     },
     "inputWidgets": {},
     "nuid": "2ab95611-bfb0-40ce-b9f3-1483d1523153",
     "showTitle": false,
     "title": ""
    }
   },
   "outputs": [],
   "source": [
    "#Now we ingest data into this notebook\n",
    "#raw_filename = 'movie_0.json'\n",
    "raw_filepath = rawPath+'*'\n",
    "\n",
    "raw_df = (\n",
    "    spark.read.format('json').option('multiline',True).load(raw_filepath)\n",
    ")\n"
   ]
  },
  {
   "cell_type": "markdown",
   "metadata": {
    "application/vnd.databricks.v1+cell": {
     "cellMetadata": {},
     "inputWidgets": {},
     "nuid": "fbf51d99-47a8-4b4e-a87a-a54e73a123ea",
     "showTitle": false,
     "title": ""
    }
   },
   "source": [
    "## Ingestion Metadata"
   ]
  },
  {
   "cell_type": "code",
   "execution_count": 0,
   "metadata": {
    "application/vnd.databricks.v1+cell": {
     "cellMetadata": {
      "byteLimit": 2048000,
      "rowLimit": 10000
     },
     "inputWidgets": {},
     "nuid": "f639eee5-80f6-4743-b12b-07c38c3f25e9",
     "showTitle": false,
     "title": ""
    }
   },
   "outputs": [],
   "source": [
    "from pyspark.sql.functions import current_timestamp, lit\n",
    "raw_df = raw_df.withColumn('datasource', lit('file: movie_0.json'))\n",
    "raw_df = raw_df.withColumn('ingesttime', current_timestamp())\n",
    "raw_df = raw_df.withColumn('status', lit('new'))\n",
    "raw_df = raw_df.withColumn('ingestdate', current_timestamp().cast('date'))"
   ]
  },
  {
   "cell_type": "code",
   "execution_count": 0,
   "metadata": {
    "application/vnd.databricks.v1+cell": {
     "cellMetadata": {
      "byteLimit": 2048000,
      "rowLimit": 10000
     },
     "inputWidgets": {},
     "nuid": "7a1bd8ca-0bc1-4846-9a43-8f75585babf2",
     "showTitle": false,
     "title": ""
    }
   },
   "outputs": [
    {
     "output_type": "display_data",
     "data": {
      "text/html": [
       "<style scoped>\n",
       "  .table-result-container {\n",
       "    max-height: 300px;\n",
       "    overflow: auto;\n",
       "  }\n",
       "  table, th, td {\n",
       "    border: 1px solid black;\n",
       "    border-collapse: collapse;\n",
       "  }\n",
       "  th, td {\n",
       "    padding: 5px;\n",
       "  }\n",
       "  th {\n",
       "    text-align: left;\n",
       "  }\n",
       "</style><div class='table-result-container'><table class='table-result'><thead style='background-color: white'><tr><th>BackdropUrl</th><th>Budget</th><th>CreatedBy</th><th>CreatedDate</th><th>Id</th><th>ImdbUrl</th><th>OriginalLanguage</th><th>Overview</th><th>PosterUrl</th><th>Price</th><th>ReleaseDate</th><th>Revenue</th><th>RunTime</th><th>Tagline</th><th>Title</th><th>TmdbUrl</th><th>UpdatedBy</th><th>UpdatedDate</th><th>genres</th><th>datasource</th><th>ingesttime</th><th>status</th><th>ingestdate</th></tr></thead><tbody><tr><td>https://image.tmdb.org/t/p/original//s3TBrRGB1iav7gFOCNx3H31MoES.jpg</td><td>1.6E8</td><td>null</td><td>2021-04-03T16:51:30.1633333</td><td>1</td><td>https://www.imdb.com/title/tt1375666</td><td>en</td><td>Cobb, a skilled thief who commits corporate espionage by infiltrating the subconscious of his targets is offered a chance to regain his old life as payment for a task considered to be impossible: \"inception\", the implantation of another person's idea into a target's subconscious.</td><td>https://image.tmdb.org/t/p/w342//9gk7adHYeDvHkCSEqAvQNLV5Uge.jpg</td><td>9.9</td><td>2010-07-15T00:00:00</td><td>8.25532764E8</td><td>148</td><td>Your mind is the scene of the crime.</td><td>Inception</td><td>https://www.themoviedb.org/movie/27205</td><td>null</td><td>null</td><td>List(List(1, Adventure), List(6, Action), List(13, Science Fiction))</td><td>file: movie_0.json</td><td>2023-08-06T18:15:19.286+0000</td><td>new</td><td>2023-08-06</td></tr><tr><td>https://image.tmdb.org/t/p/original//xJHokMbljvjADYdit5fK5VQsXEG.jpg</td><td>1.65E8</td><td>null</td><td>2021-04-03T16:51:30.1633333</td><td>2</td><td>https://www.imdb.com/title/tt0816692</td><td>en</td><td>The adventures of a group of explorers who make use of a newly discovered wormhole to surpass the limitations on human space travel and conquer the vast distances involved in an interstellar voyage.</td><td>https://image.tmdb.org/t/p/w342//gEU2QniE6E77NI6lCU6MxlNBvIx.jpg</td><td>9.9</td><td>2014-11-05T00:00:00</td><td>6.75120017E8</td><td>169</td><td>Mankind was born on Earth. It was never meant to die here.</td><td>Interstellar</td><td>https://www.themoviedb.org/movie/157336</td><td>null</td><td>null</td><td>List(List(1, Adventure), List(4, Drama), List(13, Science Fiction))</td><td>file: movie_0.json</td><td>2023-08-06T18:15:19.286+0000</td><td>new</td><td>2023-08-06</td></tr><tr><td>https://image.tmdb.org/t/p/original//hkBaDkMWbLaf8B1lsWsKX7Ew3Xq.jpg</td><td>1.85E8</td><td>null</td><td>2021-04-03T16:51:30.1633333</td><td>3</td><td>https://www.imdb.com/title/tt0468569</td><td>en</td><td>Batman raises the stakes in his war on crime. With the help of Lt. Jim Gordon and District Attorney Harvey Dent, Batman sets out to dismantle the remaining criminal organizations that plague the streets. The partnership proves to be effective, but they soon find themselves prey to a reign of chaos unleashed by a rising criminal mastermind known to the terrified citizens of Gotham as the Joker.</td><td>https://image.tmdb.org/t/p/w342//qJ2tW6WMUDux911r6m7haRef0WH.jpg</td><td>9.9</td><td>2008-07-16T00:00:00</td><td>1.004558444E9</td><td>152</td><td>Why So Serious?</td><td>The Dark Knight</td><td>https://www.themoviedb.org/movie/155</td><td>null</td><td>null</td><td>List(List(4, Drama), List(6, Action), List(10, Thriller), List(11, Crime))</td><td>file: movie_0.json</td><td>2023-08-06T18:15:19.286+0000</td><td>new</td><td>2023-08-06</td></tr><tr><td>https://image.tmdb.org/t/p/original//en971MEXui9diirXlogOrPKmsEn.jpg</td><td>5.8E7</td><td>null</td><td>2021-04-03T16:51:30.1633333</td><td>4</td><td>https://www.imdb.com/title/tt1431045</td><td>en</td><td>Deadpool tells the origin story of former Special Forces operative turned mercenary Wade Wilson, who after being subjected to a rogue experiment that leaves him with accelerated healing powers, adopts the alter ego Deadpool. Armed with his new abilities and a dark, twisted sense of humor, Deadpool hunts down the man who nearly destroyed his life.</td><td>https://image.tmdb.org/t/p/w342//yGSxMiF0cYuAiyuve5DA6bnWEOI.jpg</td><td>9.9</td><td>2016-02-09T00:00:00</td><td>7.831E8</td><td>108</td><td>Witness the beginning of a happy ending</td><td>Deadpool</td><td>https://www.themoviedb.org/movie/293660</td><td>null</td><td>null</td><td>List(List(1, Adventure), List(6, Action), List(7, Comedy))</td><td>file: movie_0.json</td><td>2023-08-06T18:15:19.286+0000</td><td>new</td><td>2023-08-06</td></tr><tr><td>https://image.tmdb.org/t/p/original//kwUQFeFXOOpgloMgZaadhzkbTI4.jpg</td><td>2.2E8</td><td>null</td><td>2021-04-03T16:51:30.1666667</td><td>5</td><td>https://www.imdb.com/title/tt0848228</td><td>en</td><td>When an unexpected enemy emerges and threatens global safety and security, Nick Fury, director of the international peacekeeping agency known as S.H.I.E.L.D., finds himself in need of a team to pull the world back from the brink of disaster. Spanning the globe, a daring recruitment effort begins!</td><td>https://image.tmdb.org/t/p/w342//RYMX2wcKCBAr24UyPD7xwmjaTn.jpg</td><td>9.9</td><td>2012-04-25T00:00:00</td><td>1.51955791E9</td><td>143</td><td>Some assembly required.</td><td>The Avengers</td><td>https://www.themoviedb.org/movie/24428</td><td>null</td><td>null</td><td>List(List(1, Adventure), List(6, Action), List(13, Science Fiction))</td><td>file: movie_0.json</td><td>2023-08-06T18:15:19.286+0000</td><td>new</td><td>2023-08-06</td></tr><tr><td>https://image.tmdb.org/t/p/original//AmHOQ7rpHwiaUMRjKXztnauSJb7.jpg</td><td>2.37E8</td><td>null</td><td>2021-04-03T16:51:30.1666667</td><td>6</td><td>https://www.imdb.com/title/tt0499549</td><td>en</td><td>In the 22nd century, a paraplegic Marine is dispatched to the moon Pandora on a unique mission, but becomes torn between following orders and protecting an alien civilization.</td><td>https://image.tmdb.org/t/p/w342//6EiRUJpuoeQPghrs3YNktfnqOVh.jpg</td><td>9.9</td><td>2009-12-10T00:00:00</td><td>2.787965087E9</td><td>162</td><td>Enter the World of Pandora.</td><td>Avatar</td><td>https://www.themoviedb.org/movie/19995</td><td>null</td><td>null</td><td>List(List(1, Adventure), List(2, Fantasy), List(6, Action), List(13, Science Fiction))</td><td>file: movie_0.json</td><td>2023-08-06T18:15:19.286+0000</td><td>new</td><td>2023-08-06</td></tr><tr><td>https://image.tmdb.org/t/p/original//mZSAu5acXueGC4Z3S5iLSWx8AEp.jpg</td><td>1.7E8</td><td>null</td><td>2021-04-03T16:51:30.1666667</td><td>7</td><td>https://www.imdb.com/title/tt2015381</td><td>en</td><td>Light years from Earth, 26 years after being abducted, Peter Quill finds himself the prime target of a manhunt after discovering an orb wanted by Ronan the Accuser.</td><td>https://image.tmdb.org/t/p/w342//r7vmZjiyZw9rpJMQJdXpjgiCOk9.jpg</td><td>9.9</td><td>2014-07-30T00:00:00</td><td>7.727766E8</td><td>121</td><td>All heroes start somewhere.</td><td>Guardians of the Galaxy</td><td>https://www.themoviedb.org/movie/118340</td><td>null</td><td>null</td><td>List(List(1, Adventure), List(6, Action), List(13, Science Fiction))</td><td>file: movie_0.json</td><td>2023-08-06T18:15:19.286+0000</td><td>new</td><td>2023-08-06</td></tr><tr><td>https://image.tmdb.org/t/p/original//52AfXWuXCHn3UjD17rBruA9f5qb.jpg</td><td>6.3E7</td><td>null</td><td>2021-04-03T16:51:30.1666667</td><td>8</td><td>https://www.imdb.com/title/tt0137523</td><td>en</td><td>A ticking-time-bomb insomniac and a slippery soap salesman channel primal male aggression into a shocking new form of therapy. Their concept catches on, with underground \"fight clubs\" forming in every town, until an eccentric gets in the way and ignites an out-of-control spiral toward oblivion.</td><td>https://image.tmdb.org/t/p/w342//8kNruSfhk5IoE4eZOc4UpvDn6tq.jpg</td><td>9.9</td><td>1999-10-15T00:00:00</td><td>1.00853753E8</td><td>139</td><td>Mischief. Mayhem. Soap.</td><td>Fight Club</td><td>https://www.themoviedb.org/movie/550</td><td>null</td><td>null</td><td>List(List(4, Drama))</td><td>file: movie_0.json</td><td>2023-08-06T18:15:19.286+0000</td><td>new</td><td>2023-08-06</td></tr><tr><td>https://image.tmdb.org/t/p/original//lmZFxXgJE3vgrciwuDib0N8CfQo.jpg</td><td>3.0E8</td><td>null</td><td>2021-04-03T16:51:30.1666667</td><td>9</td><td>https://www.imdb.com/title/tt4154756</td><td>en</td><td>As the Avengers and their allies have continued to protect the world from threats too large for any one hero to handle, a new danger has emerged from the cosmic shadows: Thanos. A despot of intergalactic infamy, his goal is to collect all six Infinity Stones, artifacts of unimaginable power, and use them to inflict his twisted will on all of reality. Everything the Avengers have fought for has led up to this moment - the fate of Earth and existence itself has never been more uncertain.</td><td>https://image.tmdb.org/t/p/w342//7WsyChQLEftFiDOVTGkv3hFpyyt.jpg</td><td>9.9</td><td>2018-04-25T00:00:00</td><td>2.046239637E9</td><td>149</td><td>An entire universe. Once and for all.</td><td>Avengers: Infinity War</td><td>https://www.themoviedb.org/movie/299536</td><td>null</td><td>null</td><td>List(List(1, Adventure), List(6, Action), List(13, Science Fiction))</td><td>file: movie_0.json</td><td>2023-08-06T18:15:19.286+0000</td><td>new</td><td>2023-08-06</td></tr><tr><td>https://image.tmdb.org/t/p/original//w7RDIgQM6bLT7JXtH4iUQd3Iwxm.jpg</td><td>8000000.0</td><td>null</td><td>2021-04-03T16:51:30.1666667</td><td>10</td><td>https://www.imdb.com/title/tt0110912</td><td>en</td><td>A burger-loving hit man, his philosophical partner, a drug-addled gangster's moll and a washed-up boxer converge in this sprawling, comedic crime caper. Their adventures unfurl in three stories that ingeniously trip back and forth in time.</td><td>https://image.tmdb.org/t/p/w342//plnlrtBUULT0rh3Xsjmpubiso3L.jpg</td><td>9.9</td><td>1994-09-10T00:00:00</td><td>2.14179088E8</td><td>154</td><td>Just because you are a character doesn't mean you have character.</td><td>Pulp Fiction</td><td>https://www.themoviedb.org/movie/680</td><td>null</td><td>null</td><td>List(List(10, Thriller), List(11, Crime))</td><td>file: movie_0.json</td><td>2023-08-06T18:15:19.286+0000</td><td>new</td><td>2023-08-06</td></tr></tbody></table></div>"
      ]
     },
     "metadata": {
      "application/vnd.databricks.v1+output": {
       "addedWidgets": {},
       "aggData": [],
       "aggError": "",
       "aggOverflow": false,
       "aggSchema": [],
       "aggSeriesLimitReached": false,
       "aggType": "",
       "arguments": {},
       "columnCustomDisplayInfos": {},
       "data": [
        [
         "https://image.tmdb.org/t/p/original//s3TBrRGB1iav7gFOCNx3H31MoES.jpg",
         1.6E8,
         null,
         "2021-04-03T16:51:30.1633333",
         1,
         "https://www.imdb.com/title/tt1375666",
         "en",
         "Cobb, a skilled thief who commits corporate espionage by infiltrating the subconscious of his targets is offered a chance to regain his old life as payment for a task considered to be impossible: \"inception\", the implantation of another person's idea into a target's subconscious.",
         "https://image.tmdb.org/t/p/w342//9gk7adHYeDvHkCSEqAvQNLV5Uge.jpg",
         9.9,
         "2010-07-15T00:00:00",
         8.25532764E8,
         148,
         "Your mind is the scene of the crime.",
         "Inception",
         "https://www.themoviedb.org/movie/27205",
         null,
         null,
         [
          [
           1,
           "Adventure"
          ],
          [
           6,
           "Action"
          ],
          [
           13,
           "Science Fiction"
          ]
         ],
         "file: movie_0.json",
         "2023-08-06T18:15:19.286+0000",
         "new",
         "2023-08-06"
        ],
        [
         "https://image.tmdb.org/t/p/original//xJHokMbljvjADYdit5fK5VQsXEG.jpg",
         1.65E8,
         null,
         "2021-04-03T16:51:30.1633333",
         2,
         "https://www.imdb.com/title/tt0816692",
         "en",
         "The adventures of a group of explorers who make use of a newly discovered wormhole to surpass the limitations on human space travel and conquer the vast distances involved in an interstellar voyage.",
         "https://image.tmdb.org/t/p/w342//gEU2QniE6E77NI6lCU6MxlNBvIx.jpg",
         9.9,
         "2014-11-05T00:00:00",
         6.75120017E8,
         169,
         "Mankind was born on Earth. It was never meant to die here.",
         "Interstellar",
         "https://www.themoviedb.org/movie/157336",
         null,
         null,
         [
          [
           1,
           "Adventure"
          ],
          [
           4,
           "Drama"
          ],
          [
           13,
           "Science Fiction"
          ]
         ],
         "file: movie_0.json",
         "2023-08-06T18:15:19.286+0000",
         "new",
         "2023-08-06"
        ],
        [
         "https://image.tmdb.org/t/p/original//hkBaDkMWbLaf8B1lsWsKX7Ew3Xq.jpg",
         1.85E8,
         null,
         "2021-04-03T16:51:30.1633333",
         3,
         "https://www.imdb.com/title/tt0468569",
         "en",
         "Batman raises the stakes in his war on crime. With the help of Lt. Jim Gordon and District Attorney Harvey Dent, Batman sets out to dismantle the remaining criminal organizations that plague the streets. The partnership proves to be effective, but they soon find themselves prey to a reign of chaos unleashed by a rising criminal mastermind known to the terrified citizens of Gotham as the Joker.",
         "https://image.tmdb.org/t/p/w342//qJ2tW6WMUDux911r6m7haRef0WH.jpg",
         9.9,
         "2008-07-16T00:00:00",
         1.004558444E9,
         152,
         "Why So Serious?",
         "The Dark Knight",
         "https://www.themoviedb.org/movie/155",
         null,
         null,
         [
          [
           4,
           "Drama"
          ],
          [
           6,
           "Action"
          ],
          [
           10,
           "Thriller"
          ],
          [
           11,
           "Crime"
          ]
         ],
         "file: movie_0.json",
         "2023-08-06T18:15:19.286+0000",
         "new",
         "2023-08-06"
        ],
        [
         "https://image.tmdb.org/t/p/original//en971MEXui9diirXlogOrPKmsEn.jpg",
         5.8E7,
         null,
         "2021-04-03T16:51:30.1633333",
         4,
         "https://www.imdb.com/title/tt1431045",
         "en",
         "Deadpool tells the origin story of former Special Forces operative turned mercenary Wade Wilson, who after being subjected to a rogue experiment that leaves him with accelerated healing powers, adopts the alter ego Deadpool. Armed with his new abilities and a dark, twisted sense of humor, Deadpool hunts down the man who nearly destroyed his life.",
         "https://image.tmdb.org/t/p/w342//yGSxMiF0cYuAiyuve5DA6bnWEOI.jpg",
         9.9,
         "2016-02-09T00:00:00",
         7.831E8,
         108,
         "Witness the beginning of a happy ending",
         "Deadpool",
         "https://www.themoviedb.org/movie/293660",
         null,
         null,
         [
          [
           1,
           "Adventure"
          ],
          [
           6,
           "Action"
          ],
          [
           7,
           "Comedy"
          ]
         ],
         "file: movie_0.json",
         "2023-08-06T18:15:19.286+0000",
         "new",
         "2023-08-06"
        ],
        [
         "https://image.tmdb.org/t/p/original//kwUQFeFXOOpgloMgZaadhzkbTI4.jpg",
         2.2E8,
         null,
         "2021-04-03T16:51:30.1666667",
         5,
         "https://www.imdb.com/title/tt0848228",
         "en",
         "When an unexpected enemy emerges and threatens global safety and security, Nick Fury, director of the international peacekeeping agency known as S.H.I.E.L.D., finds himself in need of a team to pull the world back from the brink of disaster. Spanning the globe, a daring recruitment effort begins!",
         "https://image.tmdb.org/t/p/w342//RYMX2wcKCBAr24UyPD7xwmjaTn.jpg",
         9.9,
         "2012-04-25T00:00:00",
         1.51955791E9,
         143,
         "Some assembly required.",
         "The Avengers",
         "https://www.themoviedb.org/movie/24428",
         null,
         null,
         [
          [
           1,
           "Adventure"
          ],
          [
           6,
           "Action"
          ],
          [
           13,
           "Science Fiction"
          ]
         ],
         "file: movie_0.json",
         "2023-08-06T18:15:19.286+0000",
         "new",
         "2023-08-06"
        ],
        [
         "https://image.tmdb.org/t/p/original//AmHOQ7rpHwiaUMRjKXztnauSJb7.jpg",
         2.37E8,
         null,
         "2021-04-03T16:51:30.1666667",
         6,
         "https://www.imdb.com/title/tt0499549",
         "en",
         "In the 22nd century, a paraplegic Marine is dispatched to the moon Pandora on a unique mission, but becomes torn between following orders and protecting an alien civilization.",
         "https://image.tmdb.org/t/p/w342//6EiRUJpuoeQPghrs3YNktfnqOVh.jpg",
         9.9,
         "2009-12-10T00:00:00",
         2.787965087E9,
         162,
         "Enter the World of Pandora.",
         "Avatar",
         "https://www.themoviedb.org/movie/19995",
         null,
         null,
         [
          [
           1,
           "Adventure"
          ],
          [
           2,
           "Fantasy"
          ],
          [
           6,
           "Action"
          ],
          [
           13,
           "Science Fiction"
          ]
         ],
         "file: movie_0.json",
         "2023-08-06T18:15:19.286+0000",
         "new",
         "2023-08-06"
        ],
        [
         "https://image.tmdb.org/t/p/original//mZSAu5acXueGC4Z3S5iLSWx8AEp.jpg",
         1.7E8,
         null,
         "2021-04-03T16:51:30.1666667",
         7,
         "https://www.imdb.com/title/tt2015381",
         "en",
         "Light years from Earth, 26 years after being abducted, Peter Quill finds himself the prime target of a manhunt after discovering an orb wanted by Ronan the Accuser.",
         "https://image.tmdb.org/t/p/w342//r7vmZjiyZw9rpJMQJdXpjgiCOk9.jpg",
         9.9,
         "2014-07-30T00:00:00",
         7.727766E8,
         121,
         "All heroes start somewhere.",
         "Guardians of the Galaxy",
         "https://www.themoviedb.org/movie/118340",
         null,
         null,
         [
          [
           1,
           "Adventure"
          ],
          [
           6,
           "Action"
          ],
          [
           13,
           "Science Fiction"
          ]
         ],
         "file: movie_0.json",
         "2023-08-06T18:15:19.286+0000",
         "new",
         "2023-08-06"
        ],
        [
         "https://image.tmdb.org/t/p/original//52AfXWuXCHn3UjD17rBruA9f5qb.jpg",
         6.3E7,
         null,
         "2021-04-03T16:51:30.1666667",
         8,
         "https://www.imdb.com/title/tt0137523",
         "en",
         "A ticking-time-bomb insomniac and a slippery soap salesman channel primal male aggression into a shocking new form of therapy. Their concept catches on, with underground \"fight clubs\" forming in every town, until an eccentric gets in the way and ignites an out-of-control spiral toward oblivion.",
         "https://image.tmdb.org/t/p/w342//8kNruSfhk5IoE4eZOc4UpvDn6tq.jpg",
         9.9,
         "1999-10-15T00:00:00",
         1.00853753E8,
         139,
         "Mischief. Mayhem. Soap.",
         "Fight Club",
         "https://www.themoviedb.org/movie/550",
         null,
         null,
         [
          [
           4,
           "Drama"
          ]
         ],
         "file: movie_0.json",
         "2023-08-06T18:15:19.286+0000",
         "new",
         "2023-08-06"
        ],
        [
         "https://image.tmdb.org/t/p/original//lmZFxXgJE3vgrciwuDib0N8CfQo.jpg",
         3.0E8,
         null,
         "2021-04-03T16:51:30.1666667",
         9,
         "https://www.imdb.com/title/tt4154756",
         "en",
         "As the Avengers and their allies have continued to protect the world from threats too large for any one hero to handle, a new danger has emerged from the cosmic shadows: Thanos. A despot of intergalactic infamy, his goal is to collect all six Infinity Stones, artifacts of unimaginable power, and use them to inflict his twisted will on all of reality. Everything the Avengers have fought for has led up to this moment - the fate of Earth and existence itself has never been more uncertain.",
         "https://image.tmdb.org/t/p/w342//7WsyChQLEftFiDOVTGkv3hFpyyt.jpg",
         9.9,
         "2018-04-25T00:00:00",
         2.046239637E9,
         149,
         "An entire universe. Once and for all.",
         "Avengers: Infinity War",
         "https://www.themoviedb.org/movie/299536",
         null,
         null,
         [
          [
           1,
           "Adventure"
          ],
          [
           6,
           "Action"
          ],
          [
           13,
           "Science Fiction"
          ]
         ],
         "file: movie_0.json",
         "2023-08-06T18:15:19.286+0000",
         "new",
         "2023-08-06"
        ],
        [
         "https://image.tmdb.org/t/p/original//w7RDIgQM6bLT7JXtH4iUQd3Iwxm.jpg",
         8000000.0,
         null,
         "2021-04-03T16:51:30.1666667",
         10,
         "https://www.imdb.com/title/tt0110912",
         "en",
         "A burger-loving hit man, his philosophical partner, a drug-addled gangster's moll and a washed-up boxer converge in this sprawling, comedic crime caper. Their adventures unfurl in three stories that ingeniously trip back and forth in time.",
         "https://image.tmdb.org/t/p/w342//plnlrtBUULT0rh3Xsjmpubiso3L.jpg",
         9.9,
         "1994-09-10T00:00:00",
         2.14179088E8,
         154,
         "Just because you are a character doesn't mean you have character.",
         "Pulp Fiction",
         "https://www.themoviedb.org/movie/680",
         null,
         null,
         [
          [
           10,
           "Thriller"
          ],
          [
           11,
           "Crime"
          ]
         ],
         "file: movie_0.json",
         "2023-08-06T18:15:19.286+0000",
         "new",
         "2023-08-06"
        ]
       ],
       "datasetInfos": [],
       "dbfsResultPath": null,
       "isJsonSchema": true,
       "metadata": {},
       "overflow": false,
       "plotOptions": {
        "customPlotOptions": {},
        "displayType": "table",
        "pivotAggregation": null,
        "pivotColumns": null,
        "xColumns": null,
        "yColumns": null
       },
       "removedWidgets": [],
       "schema": [
        {
         "metadata": "{}",
         "name": "BackdropUrl",
         "type": "\"string\""
        },
        {
         "metadata": "{}",
         "name": "Budget",
         "type": "\"double\""
        },
        {
         "metadata": "{}",
         "name": "CreatedBy",
         "type": "\"string\""
        },
        {
         "metadata": "{}",
         "name": "CreatedDate",
         "type": "\"string\""
        },
        {
         "metadata": "{}",
         "name": "Id",
         "type": "\"long\""
        },
        {
         "metadata": "{}",
         "name": "ImdbUrl",
         "type": "\"string\""
        },
        {
         "metadata": "{}",
         "name": "OriginalLanguage",
         "type": "\"string\""
        },
        {
         "metadata": "{}",
         "name": "Overview",
         "type": "\"string\""
        },
        {
         "metadata": "{}",
         "name": "PosterUrl",
         "type": "\"string\""
        },
        {
         "metadata": "{}",
         "name": "Price",
         "type": "\"double\""
        },
        {
         "metadata": "{}",
         "name": "ReleaseDate",
         "type": "\"string\""
        },
        {
         "metadata": "{}",
         "name": "Revenue",
         "type": "\"double\""
        },
        {
         "metadata": "{}",
         "name": "RunTime",
         "type": "\"long\""
        },
        {
         "metadata": "{}",
         "name": "Tagline",
         "type": "\"string\""
        },
        {
         "metadata": "{}",
         "name": "Title",
         "type": "\"string\""
        },
        {
         "metadata": "{}",
         "name": "TmdbUrl",
         "type": "\"string\""
        },
        {
         "metadata": "{}",
         "name": "UpdatedBy",
         "type": "\"string\""
        },
        {
         "metadata": "{}",
         "name": "UpdatedDate",
         "type": "\"string\""
        },
        {
         "metadata": "{}",
         "name": "genres",
         "type": "{\"type\":\"array\",\"elementType\":{\"type\":\"struct\",\"fields\":[{\"name\":\"id\",\"type\":\"long\",\"nullable\":true,\"metadata\":{}},{\"name\":\"name\",\"type\":\"string\",\"nullable\":true,\"metadata\":{}}]},\"containsNull\":true}"
        },
        {
         "metadata": "{}",
         "name": "datasource",
         "type": "\"string\""
        },
        {
         "metadata": "{}",
         "name": "ingesttime",
         "type": "\"timestamp\""
        },
        {
         "metadata": "{}",
         "name": "status",
         "type": "\"string\""
        },
        {
         "metadata": "{}",
         "name": "ingestdate",
         "type": "\"date\""
        }
       ],
       "type": "table"
      }
     },
     "output_type": "display_data"
    }
   ],
   "source": [
    "display(raw_df.limit(10))"
   ]
  },
  {
   "cell_type": "code",
   "execution_count": 0,
   "metadata": {
    "application/vnd.databricks.v1+cell": {
     "cellMetadata": {
      "byteLimit": 2048000,
      "rowLimit": 10000
     },
     "inputWidgets": {},
     "nuid": "5911859f-d3f8-4048-b2d8-82e1ab449ef2",
     "showTitle": false,
     "title": ""
    }
   },
   "outputs": [],
   "source": [
    "#save data to bronze filepath\n",
    "from pyspark.sql.functions import col\n",
    "(\n",
    "    raw_df.select(\n",
    "        \"*\",\n",
    "    )\n",
    "    .write.format('delta')\n",
    "    .mode('append')\n",
    "    .partitionBy('ingestdate')\n",
    "    .save(bronzePath)\n",
    ")"
   ]
  },
  {
   "cell_type": "markdown",
   "metadata": {
    "application/vnd.databricks.v1+cell": {
     "cellMetadata": {},
     "inputWidgets": {},
     "nuid": "b2d832e6-1434-4f0a-8117-8ca86bd15c8f",
     "showTitle": false,
     "title": ""
    }
   },
   "source": [
    "##Register the Bronze Table in the Metastore"
   ]
  },
  {
   "cell_type": "code",
   "execution_count": 0,
   "metadata": {
    "application/vnd.databricks.v1+cell": {
     "cellMetadata": {
      "byteLimit": 2048000,
      "rowLimit": 10000
     },
     "inputWidgets": {},
     "nuid": "b03dc3c2-7dfe-49cb-b6a7-2e53c62fbef4",
     "showTitle": false,
     "title": ""
    }
   },
   "outputs": [
    {
     "output_type": "stream",
     "name": "stdout",
     "output_type": "stream",
     "text": [
      "Out[77]: DataFrame[]"
     ]
    }
   ],
   "source": [
    "spark.sql(\n",
    "    \"\"\"\n",
    "DROP TABLE IF EXISTS Movies_bronze\n",
    "\"\"\"\n",
    ")\n",
    "\n",
    "spark.sql(\n",
    "    f\"\"\"\n",
    "CREATE TABLE Movies_bronze\n",
    "USING DELTA\n",
    "LOCATION \"{bronzePath}\"\n",
    "\"\"\"\n",
    ")"
   ]
  },
  {
   "cell_type": "code",
   "execution_count": 0,
   "metadata": {
    "application/vnd.databricks.v1+cell": {
     "cellMetadata": {
      "byteLimit": 2048000,
      "implicitDf": true,
      "rowLimit": 10000
     },
     "inputWidgets": {},
     "nuid": "3d24ed2e-35ae-40cd-8d52-647a17cd7737",
     "showTitle": false,
     "title": ""
    }
   },
   "outputs": [
    {
     "output_type": "display_data",
     "data": {
      "text/html": [
       "<style scoped>\n",
       "  .table-result-container {\n",
       "    max-height: 300px;\n",
       "    overflow: auto;\n",
       "  }\n",
       "  table, th, td {\n",
       "    border: 1px solid black;\n",
       "    border-collapse: collapse;\n",
       "  }\n",
       "  th, td {\n",
       "    padding: 5px;\n",
       "  }\n",
       "  th {\n",
       "    text-align: left;\n",
       "  }\n",
       "</style><div class='table-result-container'><table class='table-result'><thead style='background-color: white'><tr><th>BackdropUrl</th><th>Budget</th><th>CreatedBy</th><th>CreatedDate</th><th>Id</th><th>ImdbUrl</th><th>OriginalLanguage</th><th>Overview</th><th>PosterUrl</th><th>Price</th><th>ReleaseDate</th><th>Revenue</th><th>RunTime</th><th>Tagline</th><th>Title</th><th>TmdbUrl</th><th>UpdatedBy</th><th>UpdatedDate</th><th>genres</th><th>datasource</th><th>ingesttime</th><th>status</th><th>ingestdate</th></tr></thead><tbody><tr><td>https://image.tmdb.org/t/p/original//bYcsJJVj70YHHMOZGCBaDLxBI2j.jpg</td><td>0.0</td><td>null</td><td>2021-04-03T16:51:31.0666667</td><td>5306</td><td>https://www.imdb.com/title/tt1077026</td><td>en</td><td>No overview found.</td><td>https://image.tmdb.org/t/p/w342//uRgDISanXBs8qoXAwFZiJYXsTcr.jpg</td><td>9.9</td><td>2008-03-07T00:00:00</td><td>0.0</td><td>0</td><td></td><td>Grande, grosso e Verdone</td><td>https://www.themoviedb.org/movie/20414</td><td>null</td><td>null</td><td>List(List(7, Comedy), List(17, Family))</td><td>file: movie_0.json</td><td>2023-08-05T23:32:32.351+0000</td><td>quarantined</td><td>2023-08-05</td></tr><tr><td>https://image.tmdb.org/t/p/original//m7QpUAeI2xTCJyAVl9J9z5dBTSb.jpg</td><td>0.0</td><td>null</td><td>2021-04-03T16:51:31.6466667</td><td>9327</td><td>https://www.imdb.com/title/tt8134980</td><td>en</td><td>Weekend campers, an escaped convict, young lovers and a police officer experience a night of terror when a hostile visitor from another world descends on a small Arizona town.</td><td>https://image.tmdb.org/t/p/w342//w6e0XZreiyW4mGlLRHEG8ipff7b.jpg</td><td>9.9</td><td>2020-07-07T00:00:00</td><td>0.0</td><td>0</td><td>Fighting for our survival.</td><td>Battlefield 2025</td><td>https://www.themoviedb.org/movie/722603</td><td>null</td><td>null</td><td>List(List(5, Horror), List(6, Action), List(13, Science Fiction))</td><td>file: movie_0.json</td><td>2023-08-05T23:32:32.351+0000</td><td>quarantined</td><td>2023-08-05</td></tr><tr><td>https://image.tmdb.org/t/p/original//zToHxDLsMSjP4Sz7nDGZFFtMLAD.jpg</td><td>0.0</td><td>null</td><td>2021-04-03T16:51:31.5633333</td><td>8747</td><td>https://www.imdb.com/title/tt0072424</td><td>en</td><td>Feeling forgotten by the children of the world, old St. Nick decides to skip his gift-giving journey and take a vacation. Mrs. Claus and two spunky little elves, Jingle and Jangle, set out to see to where all the season's cheer has disappeared. Aided by a magical snowfall, they reawaken the spirit of Christmas in children's hearts and put Santa back in action.</td><td>https://image.tmdb.org/t/p/w342//be0RxJwTfTvdBK1sYYjwefFPH8o.jpg</td><td>9.9</td><td>1974-12-10T00:00:00</td><td>0.0</td><td>51</td><td></td><td>The Year Without a Santa Claus</td><td>https://www.themoviedb.org/movie/13397</td><td>null</td><td>null</td><td>List(List(3, Animation), List(17, Family), List(20, TV Movie))</td><td>file: movie_0.json</td><td>2023-08-05T23:32:32.351+0000</td><td>loaded</td><td>2023-08-05</td></tr><tr><td>https://image.tmdb.org/t/p/original//pSY9xTOm0DTEr4z8tbuJscjQrST.jpg</td><td>0.0</td><td>null</td><td>2021-04-03T16:51:31.5633333</td><td>8748</td><td>https://www.imdb.com/title/tt0455805</td><td>en</td><td>A New York schoolteacher hits a midlife crisis when, in quick succession, her husband leaves, her adoptive mother dies and her biological mother, an eccentric talk show host, materializes and turns her life upside down as she begins a courtship with the father of one of her students.</td><td>https://image.tmdb.org/t/p/w342//jNOK8vyX1mzSV6ewBTE1UR6NlOA.jpg</td><td>9.9</td><td>2007-09-07T00:00:00</td><td>0.0</td><td>100</td><td></td><td>Then She Found Me</td><td>https://www.themoviedb.org/movie/13196</td><td>null</td><td>null</td><td>List(List(4, Drama), List(7, Comedy), List(16, Romance))</td><td>file: movie_0.json</td><td>2023-08-05T23:32:32.351+0000</td><td>loaded</td><td>2023-08-05</td></tr><tr><td>https://image.tmdb.org/t/p/original//oZDRp2YU6op4nsixT69fz8MfH1J.jpg</td><td>0.0</td><td>null</td><td>2021-04-03T16:51:31.5633333</td><td>8749</td><td>https://www.imdb.com/title/tt0028772</td><td>en</td><td>Doctor Hugo Hackenbush, Tony, and Stuffy try and save Judy's farm by winning a big race with her horse. There are a few problems. Hackenbush runs a high priced clinic for the wealthy who don't know he has his degree in Veterinary Medicine.</td><td>https://image.tmdb.org/t/p/w342//euRUaKhI73JusmSw9VFvUHtbL3g.jpg</td><td>9.9</td><td>1937-06-11T00:00:00</td><td>0.0</td><td>111</td><td>Three Great Laff Stars ! . . . more gags and gals . . . more songs and dances !</td><td>A Day at the Races</td><td>https://www.themoviedb.org/movie/11939</td><td>null</td><td>null</td><td>List(List(7, Comedy), List(15, Music))</td><td>file: movie_0.json</td><td>2023-08-05T23:32:32.351+0000</td><td>loaded</td><td>2023-08-05</td></tr><tr><td>https://image.tmdb.org/t/p/original//mgkzNXXo94ISnkqlU4Ee4K221Tq.jpg</td><td>0.0</td><td>null</td><td>2021-04-03T16:51:31.5633333</td><td>8750</td><td>https://www.imdb.com/title/tt0092654</td><td>en</td><td>Remy McSwain is a New Orleans police lieutenant who investigates the murder of a local mobster. His investigation leads him to suspect that fellow members of the police force may be involved.</td><td>https://image.tmdb.org/t/p/w342//h1zSdBuPRtKAD5R95dMQKMs5NyT.jpg</td><td>9.9</td><td>1986-11-27T00:00:00</td><td>0.0</td><td>102</td><td>A cop and a lady lawyer caught in an explosive truth of police corruption.</td><td>The Big Easy</td><td>https://www.themoviedb.org/movie/11028</td><td>null</td><td>null</td><td>List(List(4, Drama), List(6, Action), List(11, Crime), List(14, Mystery))</td><td>file: movie_0.json</td><td>2023-08-05T23:32:32.351+0000</td><td>loaded</td><td>2023-08-05</td></tr><tr><td>https://image.tmdb.org/t/p/original//hQjCwC222uOusRsAqEOoTHY0sBX.jpg</td><td>0.0</td><td>null</td><td>2021-04-03T16:51:31.5633333</td><td>8751</td><td>https://www.imdb.com/title/tt0080798</td><td>en</td><td>When a young boy's family is killed by the mob, their tough neighbor Gloria becomes his reluctant guardian. In possession of a book that the gangsters want, the pair go on the run in New York.</td><td>https://image.tmdb.org/t/p/w342//mrYZInXp0JEoZYXs0Z108l2jN0C.jpg</td><td>9.9</td><td>1980-10-01T00:00:00</td><td>4059673.0</td><td>123</td><td>And she's out to beat the mob at their own game.</td><td>Gloria</td><td>https://www.themoviedb.org/movie/10889</td><td>null</td><td>null</td><td>List(List(4, Drama), List(10, Thriller), List(11, Crime))</td><td>file: movie_0.json</td><td>2023-08-05T23:32:32.351+0000</td><td>loaded</td><td>2023-08-05</td></tr><tr><td>https://image.tmdb.org/t/p/original//vXtSgdZjWV3HPacdAVaUMzOzFsK.jpg</td><td>0.0</td><td>null</td><td>2021-04-03T16:51:31.5633333</td><td>8752</td><td>https://www.imdb.com/title/tt0129871</td><td>en</td><td>When a sheriff arrests a writer, a family, a couple, and a hitchiker and throws them in a jail cell in the deserted town of Desperation, they must fight for their lives.</td><td>https://image.tmdb.org/t/p/w342//bjELwweoUlLSk9DtOS3MXBJVLTX.jpg</td><td>9.9</td><td>2006-05-23T00:00:00</td><td>0.0</td><td>131</td><td>In this town, there are no accidents.</td><td>Desperation</td><td>https://www.themoviedb.org/movie/10004</td><td>null</td><td>null</td><td>List(List(2, Fantasy), List(4, Drama), List(5, Horror), List(10, Thriller), List(14, Mystery))</td><td>file: movie_0.json</td><td>2023-08-05T23:32:32.351+0000</td><td>loaded</td><td>2023-08-05</td></tr><tr><td>https://image.tmdb.org/t/p/original//nFQacsnpLBWGXsLyhdPpq7ckCtE.jpg</td><td>0.0</td><td>null</td><td>2021-04-03T16:51:31.5666667</td><td>8753</td><td>https://www.imdb.com/title/tt0423505</td><td>en</td><td>While Ron Burgundy's rivalry with Veronica Corningstone escalates quickly, a group of unprofessional thieves better known as 'The Alarm Clock' try to make the truth known, whatever that may mean...</td><td>https://image.tmdb.org/t/p/w342//hhB5xyLxY72gqHzKn1wSJZ1j9a4.jpg</td><td>9.9</td><td>2004-12-28T00:00:00</td><td>0.0</td><td>93</td><td>the Adventure Continues...</td><td>Wake Up, Ron Burgundy: The Lost Movie</td><td>https://www.themoviedb.org/movie/9965</td><td>null</td><td>null</td><td>List(List(7, Comedy))</td><td>file: movie_0.json</td><td>2023-08-05T23:32:32.351+0000</td><td>loaded</td><td>2023-08-05</td></tr><tr><td>https://image.tmdb.org/t/p/original//fyhxTKsJ3x47z9rgMvkqL1haT6S.jpg</td><td>1.0E7</td><td>null</td><td>2021-04-03T16:51:31.5666667</td><td>8754</td><td>https://www.imdb.com/title/tt0120741</td><td>en</td><td>Takeoff on the Godfather with the son of a mafia king taking over for his dying father.</td><td>https://image.tmdb.org/t/p/w342//gGgirOcInrfjWgemKMjvZc3fGtU.jpg</td><td>9.9</td><td>1998-07-24T00:00:00</td><td>1.9E7</td><td>84</td><td>See it early. Avoid the mob.</td><td>Jane Austen's Mafia!</td><td>https://www.themoviedb.org/movie/9835</td><td>null</td><td>null</td><td>List(List(7, Comedy), List(11, Crime))</td><td>file: movie_0.json</td><td>2023-08-05T23:32:32.351+0000</td><td>loaded</td><td>2023-08-05</td></tr></tbody></table></div>"
      ]
     },
     "metadata": {
      "application/vnd.databricks.v1+output": {
       "addedWidgets": {},
       "aggData": [],
       "aggError": "",
       "aggOverflow": false,
       "aggSchema": [],
       "aggSeriesLimitReached": false,
       "aggType": "",
       "arguments": {},
       "columnCustomDisplayInfos": {},
       "data": [
        [
         "https://image.tmdb.org/t/p/original//bYcsJJVj70YHHMOZGCBaDLxBI2j.jpg",
         0.0,
         null,
         "2021-04-03T16:51:31.0666667",
         5306,
         "https://www.imdb.com/title/tt1077026",
         "en",
         "No overview found.",
         "https://image.tmdb.org/t/p/w342//uRgDISanXBs8qoXAwFZiJYXsTcr.jpg",
         9.9,
         "2008-03-07T00:00:00",
         0.0,
         0,
         "",
         "Grande, grosso e Verdone",
         "https://www.themoviedb.org/movie/20414",
         null,
         null,
         [
          [
           7,
           "Comedy"
          ],
          [
           17,
           "Family"
          ]
         ],
         "file: movie_0.json",
         "2023-08-05T23:32:32.351+0000",
         "quarantined",
         "2023-08-05"
        ],
        [
         "https://image.tmdb.org/t/p/original//m7QpUAeI2xTCJyAVl9J9z5dBTSb.jpg",
         0.0,
         null,
         "2021-04-03T16:51:31.6466667",
         9327,
         "https://www.imdb.com/title/tt8134980",
         "en",
         "Weekend campers, an escaped convict, young lovers and a police officer experience a night of terror when a hostile visitor from another world descends on a small Arizona town.",
         "https://image.tmdb.org/t/p/w342//w6e0XZreiyW4mGlLRHEG8ipff7b.jpg",
         9.9,
         "2020-07-07T00:00:00",
         0.0,
         0,
         "Fighting for our survival.",
         "Battlefield 2025",
         "https://www.themoviedb.org/movie/722603",
         null,
         null,
         [
          [
           5,
           "Horror"
          ],
          [
           6,
           "Action"
          ],
          [
           13,
           "Science Fiction"
          ]
         ],
         "file: movie_0.json",
         "2023-08-05T23:32:32.351+0000",
         "quarantined",
         "2023-08-05"
        ],
        [
         "https://image.tmdb.org/t/p/original//zToHxDLsMSjP4Sz7nDGZFFtMLAD.jpg",
         0.0,
         null,
         "2021-04-03T16:51:31.5633333",
         8747,
         "https://www.imdb.com/title/tt0072424",
         "en",
         "Feeling forgotten by the children of the world, old St. Nick decides to skip his gift-giving journey and take a vacation. Mrs. Claus and two spunky little elves, Jingle and Jangle, set out to see to where all the season's cheer has disappeared. Aided by a magical snowfall, they reawaken the spirit of Christmas in children's hearts and put Santa back in action.",
         "https://image.tmdb.org/t/p/w342//be0RxJwTfTvdBK1sYYjwefFPH8o.jpg",
         9.9,
         "1974-12-10T00:00:00",
         0.0,
         51,
         "",
         "The Year Without a Santa Claus",
         "https://www.themoviedb.org/movie/13397",
         null,
         null,
         [
          [
           3,
           "Animation"
          ],
          [
           17,
           "Family"
          ],
          [
           20,
           "TV Movie"
          ]
         ],
         "file: movie_0.json",
         "2023-08-05T23:32:32.351+0000",
         "loaded",
         "2023-08-05"
        ],
        [
         "https://image.tmdb.org/t/p/original//pSY9xTOm0DTEr4z8tbuJscjQrST.jpg",
         0.0,
         null,
         "2021-04-03T16:51:31.5633333",
         8748,
         "https://www.imdb.com/title/tt0455805",
         "en",
         "A New York schoolteacher hits a midlife crisis when, in quick succession, her husband leaves, her adoptive mother dies and her biological mother, an eccentric talk show host, materializes and turns her life upside down as she begins a courtship with the father of one of her students.",
         "https://image.tmdb.org/t/p/w342//jNOK8vyX1mzSV6ewBTE1UR6NlOA.jpg",
         9.9,
         "2007-09-07T00:00:00",
         0.0,
         100,
         "",
         "Then She Found Me",
         "https://www.themoviedb.org/movie/13196",
         null,
         null,
         [
          [
           4,
           "Drama"
          ],
          [
           7,
           "Comedy"
          ],
          [
           16,
           "Romance"
          ]
         ],
         "file: movie_0.json",
         "2023-08-05T23:32:32.351+0000",
         "loaded",
         "2023-08-05"
        ],
        [
         "https://image.tmdb.org/t/p/original//oZDRp2YU6op4nsixT69fz8MfH1J.jpg",
         0.0,
         null,
         "2021-04-03T16:51:31.5633333",
         8749,
         "https://www.imdb.com/title/tt0028772",
         "en",
         "Doctor Hugo Hackenbush, Tony, and Stuffy try and save Judy's farm by winning a big race with her horse. There are a few problems. Hackenbush runs a high priced clinic for the wealthy who don't know he has his degree in Veterinary Medicine.",
         "https://image.tmdb.org/t/p/w342//euRUaKhI73JusmSw9VFvUHtbL3g.jpg",
         9.9,
         "1937-06-11T00:00:00",
         0.0,
         111,
         "Three Great Laff Stars ! . . . more gags and gals . . . more songs and dances !",
         "A Day at the Races",
         "https://www.themoviedb.org/movie/11939",
         null,
         null,
         [
          [
           7,
           "Comedy"
          ],
          [
           15,
           "Music"
          ]
         ],
         "file: movie_0.json",
         "2023-08-05T23:32:32.351+0000",
         "loaded",
         "2023-08-05"
        ],
        [
         "https://image.tmdb.org/t/p/original//mgkzNXXo94ISnkqlU4Ee4K221Tq.jpg",
         0.0,
         null,
         "2021-04-03T16:51:31.5633333",
         8750,
         "https://www.imdb.com/title/tt0092654",
         "en",
         "Remy McSwain is a New Orleans police lieutenant who investigates the murder of a local mobster. His investigation leads him to suspect that fellow members of the police force may be involved.",
         "https://image.tmdb.org/t/p/w342//h1zSdBuPRtKAD5R95dMQKMs5NyT.jpg",
         9.9,
         "1986-11-27T00:00:00",
         0.0,
         102,
         "A cop and a lady lawyer caught in an explosive truth of police corruption.",
         "The Big Easy",
         "https://www.themoviedb.org/movie/11028",
         null,
         null,
         [
          [
           4,
           "Drama"
          ],
          [
           6,
           "Action"
          ],
          [
           11,
           "Crime"
          ],
          [
           14,
           "Mystery"
          ]
         ],
         "file: movie_0.json",
         "2023-08-05T23:32:32.351+0000",
         "loaded",
         "2023-08-05"
        ],
        [
         "https://image.tmdb.org/t/p/original//hQjCwC222uOusRsAqEOoTHY0sBX.jpg",
         0.0,
         null,
         "2021-04-03T16:51:31.5633333",
         8751,
         "https://www.imdb.com/title/tt0080798",
         "en",
         "When a young boy's family is killed by the mob, their tough neighbor Gloria becomes his reluctant guardian. In possession of a book that the gangsters want, the pair go on the run in New York.",
         "https://image.tmdb.org/t/p/w342//mrYZInXp0JEoZYXs0Z108l2jN0C.jpg",
         9.9,
         "1980-10-01T00:00:00",
         4059673.0,
         123,
         "And she's out to beat the mob at their own game.",
         "Gloria",
         "https://www.themoviedb.org/movie/10889",
         null,
         null,
         [
          [
           4,
           "Drama"
          ],
          [
           10,
           "Thriller"
          ],
          [
           11,
           "Crime"
          ]
         ],
         "file: movie_0.json",
         "2023-08-05T23:32:32.351+0000",
         "loaded",
         "2023-08-05"
        ],
        [
         "https://image.tmdb.org/t/p/original//vXtSgdZjWV3HPacdAVaUMzOzFsK.jpg",
         0.0,
         null,
         "2021-04-03T16:51:31.5633333",
         8752,
         "https://www.imdb.com/title/tt0129871",
         "en",
         "When a sheriff arrests a writer, a family, a couple, and a hitchiker and throws them in a jail cell in the deserted town of Desperation, they must fight for their lives.",
         "https://image.tmdb.org/t/p/w342//bjELwweoUlLSk9DtOS3MXBJVLTX.jpg",
         9.9,
         "2006-05-23T00:00:00",
         0.0,
         131,
         "In this town, there are no accidents.",
         "Desperation",
         "https://www.themoviedb.org/movie/10004",
         null,
         null,
         [
          [
           2,
           "Fantasy"
          ],
          [
           4,
           "Drama"
          ],
          [
           5,
           "Horror"
          ],
          [
           10,
           "Thriller"
          ],
          [
           14,
           "Mystery"
          ]
         ],
         "file: movie_0.json",
         "2023-08-05T23:32:32.351+0000",
         "loaded",
         "2023-08-05"
        ],
        [
         "https://image.tmdb.org/t/p/original//nFQacsnpLBWGXsLyhdPpq7ckCtE.jpg",
         0.0,
         null,
         "2021-04-03T16:51:31.5666667",
         8753,
         "https://www.imdb.com/title/tt0423505",
         "en",
         "While Ron Burgundy's rivalry with Veronica Corningstone escalates quickly, a group of unprofessional thieves better known as 'The Alarm Clock' try to make the truth known, whatever that may mean...",
         "https://image.tmdb.org/t/p/w342//hhB5xyLxY72gqHzKn1wSJZ1j9a4.jpg",
         9.9,
         "2004-12-28T00:00:00",
         0.0,
         93,
         "the Adventure Continues...",
         "Wake Up, Ron Burgundy: The Lost Movie",
         "https://www.themoviedb.org/movie/9965",
         null,
         null,
         [
          [
           7,
           "Comedy"
          ]
         ],
         "file: movie_0.json",
         "2023-08-05T23:32:32.351+0000",
         "loaded",
         "2023-08-05"
        ],
        [
         "https://image.tmdb.org/t/p/original//fyhxTKsJ3x47z9rgMvkqL1haT6S.jpg",
         1.0E7,
         null,
         "2021-04-03T16:51:31.5666667",
         8754,
         "https://www.imdb.com/title/tt0120741",
         "en",
         "Takeoff on the Godfather with the son of a mafia king taking over for his dying father.",
         "https://image.tmdb.org/t/p/w342//gGgirOcInrfjWgemKMjvZc3fGtU.jpg",
         9.9,
         "1998-07-24T00:00:00",
         1.9E7,
         84,
         "See it early. Avoid the mob.",
         "Jane Austen's Mafia!",
         "https://www.themoviedb.org/movie/9835",
         null,
         null,
         [
          [
           7,
           "Comedy"
          ],
          [
           11,
           "Crime"
          ]
         ],
         "file: movie_0.json",
         "2023-08-05T23:32:32.351+0000",
         "loaded",
         "2023-08-05"
        ]
       ],
       "datasetInfos": [],
       "dbfsResultPath": null,
       "isJsonSchema": true,
       "metadata": {},
       "overflow": false,
       "plotOptions": {
        "customPlotOptions": {},
        "displayType": "table",
        "pivotAggregation": null,
        "pivotColumns": null,
        "xColumns": null,
        "yColumns": null
       },
       "removedWidgets": [],
       "schema": [
        {
         "metadata": "{}",
         "name": "BackdropUrl",
         "type": "\"string\""
        },
        {
         "metadata": "{}",
         "name": "Budget",
         "type": "\"double\""
        },
        {
         "metadata": "{}",
         "name": "CreatedBy",
         "type": "\"string\""
        },
        {
         "metadata": "{}",
         "name": "CreatedDate",
         "type": "\"string\""
        },
        {
         "metadata": "{}",
         "name": "Id",
         "type": "\"long\""
        },
        {
         "metadata": "{}",
         "name": "ImdbUrl",
         "type": "\"string\""
        },
        {
         "metadata": "{}",
         "name": "OriginalLanguage",
         "type": "\"string\""
        },
        {
         "metadata": "{}",
         "name": "Overview",
         "type": "\"string\""
        },
        {
         "metadata": "{}",
         "name": "PosterUrl",
         "type": "\"string\""
        },
        {
         "metadata": "{}",
         "name": "Price",
         "type": "\"double\""
        },
        {
         "metadata": "{}",
         "name": "ReleaseDate",
         "type": "\"string\""
        },
        {
         "metadata": "{}",
         "name": "Revenue",
         "type": "\"double\""
        },
        {
         "metadata": "{}",
         "name": "RunTime",
         "type": "\"long\""
        },
        {
         "metadata": "{}",
         "name": "Tagline",
         "type": "\"string\""
        },
        {
         "metadata": "{}",
         "name": "Title",
         "type": "\"string\""
        },
        {
         "metadata": "{}",
         "name": "TmdbUrl",
         "type": "\"string\""
        },
        {
         "metadata": "{}",
         "name": "UpdatedBy",
         "type": "\"string\""
        },
        {
         "metadata": "{}",
         "name": "UpdatedDate",
         "type": "\"string\""
        },
        {
         "metadata": "{}",
         "name": "genres",
         "type": "{\"type\":\"array\",\"elementType\":{\"type\":\"struct\",\"fields\":[{\"name\":\"id\",\"type\":\"long\",\"nullable\":true,\"metadata\":{}},{\"name\":\"name\",\"type\":\"string\",\"nullable\":true,\"metadata\":{}}]},\"containsNull\":true}"
        },
        {
         "metadata": "{}",
         "name": "datasource",
         "type": "\"string\""
        },
        {
         "metadata": "{}",
         "name": "ingesttime",
         "type": "\"timestamp\""
        },
        {
         "metadata": "{}",
         "name": "status",
         "type": "\"string\""
        },
        {
         "metadata": "{}",
         "name": "ingestdate",
         "type": "\"date\""
        }
       ],
       "type": "table"
      }
     },
     "output_type": "display_data"
    }
   ],
   "source": [
    "%sql\n",
    "\n",
    "SELECT * FROM Movies_bronze limit 10"
   ]
  },
  {
   "cell_type": "markdown",
   "metadata": {
    "application/vnd.databricks.v1+cell": {
     "cellMetadata": {},
     "inputWidgets": {},
     "nuid": "1cf46c0e-76e3-4d1b-a295-96953661efaa",
     "showTitle": false,
     "title": ""
    }
   },
   "source": [
    "##Bronze to Silver"
   ]
  },
  {
   "cell_type": "code",
   "execution_count": 0,
   "metadata": {
    "application/vnd.databricks.v1+cell": {
     "cellMetadata": {
      "byteLimit": 2048000,
      "rowLimit": 10000
     },
     "inputWidgets": {},
     "nuid": "d9c301bf-ae90-4a70-b7b4-1af81d99c6f1",
     "showTitle": false,
     "title": ""
    }
   },
   "outputs": [],
   "source": [
    "#first read the table from database\n",
    "bronzeDF = spark.read.table(\"Movies_bronze\").filter(\"status = 'new'\")"
   ]
  },
  {
   "cell_type": "code",
   "execution_count": 0,
   "metadata": {
    "application/vnd.databricks.v1+cell": {
     "cellMetadata": {
      "byteLimit": 2048000,
      "rowLimit": 10000
     },
     "inputWidgets": {},
     "nuid": "8a8dcc09-6bb0-441a-9af2-832b133b68c5",
     "showTitle": false,
     "title": ""
    }
   },
   "outputs": [],
   "source": [
    "#add a widget to allow the user to specify what data to load based on ingestdate\n",
    "dbutils.widgets.dropdown(\n",
    "    'ingestdate_widget',\n",
    "    '2023-08-05',  \n",
    "    [row['ingestdate'].strftime('%Y-%m-%d') for row in bronzeDF.select('ingestdate').distinct().collect()]\n",
    ")"
   ]
  },
  {
   "cell_type": "code",
   "execution_count": 0,
   "metadata": {
    "application/vnd.databricks.v1+cell": {
     "cellMetadata": {
      "byteLimit": 2048000,
      "rowLimit": 10000
     },
     "inputWidgets": {},
     "nuid": "8ce20972-5a65-47d4-bc23-e28ed88be4d1",
     "showTitle": false,
     "title": ""
    }
   },
   "outputs": [],
   "source": [
    "selected_ingestdate = dbutils.widgets.get(\"ingestdate_widget\")\n",
    "bronzeDF = bronzeDF.filter(col('ingestdate') == lit(selected_ingestdate))"
   ]
  },
  {
   "cell_type": "code",
   "execution_count": 0,
   "metadata": {
    "application/vnd.databricks.v1+cell": {
     "cellMetadata": {
      "byteLimit": 2048000,
      "rowLimit": 10000
     },
     "inputWidgets": {},
     "nuid": "3f8503b9-33ac-4585-85f9-9fa9fa90bf7e",
     "showTitle": false,
     "title": ""
    }
   },
   "outputs": [],
   "source": [
    "#now since the 'genres' colomn contains an array, we need to explode it\n",
    "from pyspark.sql.functions import explode\n",
    "new_bronze = bronzeDF.withColumn('genres',explode('genres')).drop('datasource','ingesttime','status','ingestdate')"
   ]
  },
  {
   "cell_type": "code",
   "execution_count": 0,
   "metadata": {
    "application/vnd.databricks.v1+cell": {
     "cellMetadata": {
      "byteLimit": 2048000,
      "rowLimit": 10000
     },
     "inputWidgets": {},
     "nuid": "2f00cc7c-4d47-4ad0-8ce6-671e456e56d4",
     "showTitle": false,
     "title": ""
    }
   },
   "outputs": [],
   "source": [
    "#here we split the bronze dataframe into 3 different pre-silver tables\n",
    "Movie_df = new_bronze.drop('genres','OriginalLanguage')\n",
    "Genre_df = new_bronze.select('Id','genres')\n",
    "OriginalLanguage_df = new_bronze.select('Id','OriginalLanguage')"
   ]
  },
  {
   "cell_type": "code",
   "execution_count": 0,
   "metadata": {
    "application/vnd.databricks.v1+cell": {
     "cellMetadata": {
      "byteLimit": 2048000,
      "rowLimit": 10000
     },
     "inputWidgets": {},
     "nuid": "04eb4787-fd07-42d8-8803-b0a72c3ef4ae",
     "showTitle": false,
     "title": ""
    }
   },
   "outputs": [],
   "source": [
    "#partition on p_date from CreatedDate\n",
    "Movie_df = Movie_df.withColumn('p_date',to_date(substring('CreatedDate',1,10),'yyyy-MM-dd'))"
   ]
  },
  {
   "cell_type": "code",
   "execution_count": 0,
   "metadata": {
    "application/vnd.databricks.v1+cell": {
     "cellMetadata": {
      "byteLimit": 2048000,
      "rowLimit": 10000
     },
     "inputWidgets": {},
     "nuid": "b13043f8-3d42-4e6a-a9c6-dd8dc8c11fa6",
     "showTitle": false,
     "title": ""
    }
   },
   "outputs": [],
   "source": [
    "#for Movie_df, we have to handle records with negative runtime\n",
    "Movie_df_quarantine = Movie_df.filter('runtime<=0')\n",
    "Movie_df_clean = Movie_df.filter('runtime>0')\n",
    "Movie_df_clean = Movie_df_clean.dropDuplicates()\n"
   ]
  },
  {
   "cell_type": "code",
   "execution_count": 0,
   "metadata": {
    "application/vnd.databricks.v1+cell": {
     "cellMetadata": {
      "byteLimit": 2048000,
      "rowLimit": 10000
     },
     "inputWidgets": {},
     "nuid": "3def328e-dde9-41a1-b60b-4f9c6799a422",
     "showTitle": false,
     "title": ""
    }
   },
   "outputs": [
    {
     "output_type": "display_data",
     "data": {
      "text/html": [
       "<style scoped>\n",
       "  .table-result-container {\n",
       "    max-height: 300px;\n",
       "    overflow: auto;\n",
       "  }\n",
       "  table, th, td {\n",
       "    border: 1px solid black;\n",
       "    border-collapse: collapse;\n",
       "  }\n",
       "  th, td {\n",
       "    padding: 5px;\n",
       "  }\n",
       "  th {\n",
       "    text-align: left;\n",
       "  }\n",
       "</style><div class='table-result-container'><table class='table-result'><thead style='background-color: white'><tr><th>BackdropUrl</th><th>Budget</th><th>CreatedBy</th><th>CreatedDate</th><th>Id</th><th>ImdbUrl</th><th>Overview</th><th>PosterUrl</th><th>Price</th><th>ReleaseDate</th><th>Revenue</th><th>RunTime</th><th>Tagline</th><th>Title</th><th>TmdbUrl</th><th>UpdatedBy</th><th>UpdatedDate</th><th>p_date</th></tr></thead><tbody><tr><td>https://image.tmdb.org/t/p/original//l2yN6hREdMOSTwhOj7JLaY2Oem5.jpg</td><td>1.0E7</td><td>null</td><td>2021-04-03T16:51:31.5700000</td><td>8781</td><td>https://www.imdb.com/title/tt1161418</td><td>A teenager attends a fantasy writers' convention where he discovers his idea has been stolen by an established novelist.</td><td>https://image.tmdb.org/t/p/w342//u31zMn14ROWKjB7ct9oBuXaJLqY.jpg</td><td>9.9</td><td>2009-09-30T00:00:00</td><td>0.0</td><td>89</td><td>Oinus, Ainous, Anous, Odious.</td><td>Gentlemen Broncos</td><td>https://www.themoviedb.org/movie/22820</td><td>null</td><td>null</td><td>2021-04-03</td></tr><tr><td>https://image.tmdb.org/t/p/original//1khytE1x9z7whNJxFQWpB0Xcw5r.jpg</td><td>1200000.0</td><td>null</td><td>2021-04-03T16:51:31.5966667</td><td>8975</td><td>https://www.imdb.com/title/tt0284929</td><td>Docu-drama based on the life of Ted Bundy, a serial killer who killed at least 19 young women during the 1970's (though some sources say as many as 30 to 35 were murdered). Set from his college student years, to his first victims, his capture, escape from prison (twice), his final killing spree to his trial, conviction and execution.</td><td>https://image.tmdb.org/t/p/w342//bh6wHjHxmuSyYL8jSFqtLlzMSGq.jpg</td><td>9.9</td><td>2002-11-22T00:00:00</td><td>68716.0</td><td>99</td><td>Not every serial killer fits the profile.</td><td>Ted Bundy</td><td>https://www.themoviedb.org/movie/34081</td><td>null</td><td>null</td><td>2021-04-03</td></tr><tr><td>https://image.tmdb.org/t/p/original/</td><td>3.5E7</td><td>null</td><td>2021-04-03T16:51:31.6100000</td><td>9060</td><td>https://www.imdb.com/title/tt0123209</td><td>A mentally challenged girl proves herself to be every bit as capable as her \"perfect\" sister when she moves into an apartment and begins going to college.</td><td>https://image.tmdb.org/t/p/w342//s6DNg3HOeVmzxm3wSwL0cXSQQLq.jpg</td><td>9.9</td><td>1999-02-26T00:00:00</td><td>0.0</td><td>130</td><td>A love story for the romantically challenged.</td><td>The Other Sister</td><td>https://www.themoviedb.org/movie/18417</td><td>null</td><td>null</td><td>2021-04-03</td></tr><tr><td>https://image.tmdb.org/t/p/original//pFfCyTolgfcfYRQod6PEmbguUPV.jpg</td><td>0.0</td><td>null</td><td>2021-04-03T16:51:31.6366667</td><td>9278</td><td>https://www.imdb.com/title/tt0086859</td><td>She was a beautiful fugitive. Fleeing from corruption. From power. He was a professional athlete past his prime. Hired to find her, he grew to love her. Love turned to obsession. Obsession turned to murder. And now the price of freedom might be nothing less than their lives.</td><td>https://image.tmdb.org/t/p/w342//Ac0m41QYoxYBfRoU4cL491vOfEv.jpg</td><td>9.9</td><td>1984-03-02T00:00:00</td><td>0.0</td><td>128</td><td>Sometimes love is the most dangerous game of all.</td><td>Against All Odds</td><td>https://www.themoviedb.org/movie/22160</td><td>null</td><td>null</td><td>2021-04-03</td></tr><tr><td>https://image.tmdb.org/t/p/original//g9KMwbdX2OwlHqt9zeiFzA36qAY.jpg</td><td>0.0</td><td>null</td><td>2021-04-03T16:51:31.6600000</td><td>9417</td><td>https://www.imdb.com/title/tt0091637</td><td>An unconventional undercover Chicago cop and his partner are recruited to commit the murder of a New Orleans criminal kingpin.</td><td>https://image.tmdb.org/t/p/w342//e3GLsfBLy7fdM3dJKAkzQlTIqII.jpg</td><td>9.9</td><td>1986-12-19T00:00:00</td><td>1.2303904E7</td><td>106</td><td>When passion and hatred know no limits, expect no mercy.</td><td>No Mercy</td><td>https://www.themoviedb.org/movie/26789</td><td>null</td><td>null</td><td>2021-04-03</td></tr><tr><td>https://image.tmdb.org/t/p/original//lklIDRhOtDHs3SbiIXWFdyDEPym.jpg</td><td>0.0</td><td>null</td><td>2021-04-03T16:51:31.6700000</td><td>9471</td><td>https://www.imdb.com/title/tt0087414</td><td>Ex-gangster Willie Parker has betrayed his former \"colleagues\" and now lives in Spain where he thinks he can hide from their vengeance...</td><td>https://image.tmdb.org/t/p/w342//hKNIz9iids9uPyEpmJjLFM96KXI.jpg</td><td>9.9</td><td>1984-09-12T00:00:00</td><td>0.0</td><td>98</td><td>Even bad guys have bad days</td><td>The Hit</td><td>https://www.themoviedb.org/movie/19621</td><td>null</td><td>null</td><td>2021-04-03</td></tr><tr><td>https://image.tmdb.org/t/p/original//uD6gMyUn6sKVLyLYChOOLGZKGF2.jpg</td><td>0.0</td><td>null</td><td>2021-04-03T16:51:31.6766667</td><td>9542</td><td>https://www.imdb.com/title/tt0067698</td><td>Boston, 1920. Italian immigrants Nicola Sacco and Bartolomeo Vanzetti are charged and unfairly tried for murder on the basis of their anarchic political convictions.</td><td>https://image.tmdb.org/t/p/w342//lnaDudmzjNUF3EJHlkExFVwaFf.jpg</td><td>9.9</td><td>1971-03-16T00:00:00</td><td>0.0</td><td>120</td><td></td><td>Sacco & Vanzetti</td><td>https://www.themoviedb.org/movie/48211</td><td>null</td><td>null</td><td>2021-04-03</td></tr><tr><td>https://image.tmdb.org/t/p/original//zv6EWmtNg5nRNOfWihFJcV9lUty.jpg</td><td>0.0</td><td>null</td><td>2021-04-03T16:51:31.6800000</td><td>9578</td><td>https://www.imdb.com/title/tt7214842</td><td>Penetrating the insular world of New York's Hasidic community, focusing on three individuals driven to break away despite threats of retaliation.</td><td>https://image.tmdb.org/t/p/w342//kc0XgWgBC8sfoWls5TBxoc6ukDA.jpg</td><td>9.9</td><td>2017-09-10T00:00:00</td><td>0.0</td><td>95</td><td>Leave the faith. Pay the price</td><td>One of Us</td><td>https://www.themoviedb.org/movie/474569</td><td>null</td><td>null</td><td>2021-04-03</td></tr><tr><td>https://image.tmdb.org/t/p/original//juugwVQ6OO0WFJcMlKhm3KVAr49.jpg</td><td>0.0</td><td>null</td><td>2021-04-03T16:51:31.6933333</td><td>9658</td><td>https://www.imdb.com/title/tt0101590</td><td>A Liberal activist lawyer alienated his daughter Maggie years ago when she discovered his many affairs. Now a conservative corporate lawyer, Maggie agrees to go up against her father in court. To gain promotion, she must defend an auto manufacturer against charges that their explosion-prone station wagons are unsafe. As her mother begs for peace, Maggie takes on her dad in a trial that turns increasingly personal and nasty.</td><td>https://image.tmdb.org/t/p/w342//9BOsvZL2DuE2JFGYOssynTjs8K6.jpg</td><td>9.9</td><td>1991-03-15T00:00:00</td><td>0.0</td><td>105</td><td>A father and a daughter, divided by a case, endangered by the truth.</td><td>Class Action</td><td>https://www.themoviedb.org/movie/15771</td><td>null</td><td>null</td><td>2021-04-03</td></tr><tr><td>https://image.tmdb.org/t/p/original//gCUdoaqA2lOVq7hj0JZbIr5f3Em.jpg</td><td>0.0</td><td>null</td><td>2021-04-03T16:51:31.6933333</td><td>9662</td><td>https://www.imdb.com/title/tt0158493</td><td>Tommy Brown and Sincere are best friends as well as infamous and ruthless criminals and shot-callers in the hood. Respected by many but feared by all.  As the police are closing in on them and new players are looking for a come up, will their reign last?</td><td>https://image.tmdb.org/t/p/w342//A4aTsOd0X2080Pluv665D2okZj7.jpg</td><td>9.9</td><td>1998-11-04T00:00:00</td><td>0.0</td><td>96</td><td>Money, power, respect... but who's got your back?</td><td>Belly</td><td>https://www.themoviedb.org/movie/12888</td><td>null</td><td>null</td><td>2021-04-03</td></tr></tbody></table></div>"
      ]
     },
     "metadata": {
      "application/vnd.databricks.v1+output": {
       "addedWidgets": {},
       "aggData": [],
       "aggError": "",
       "aggOverflow": false,
       "aggSchema": [],
       "aggSeriesLimitReached": false,
       "aggType": "",
       "arguments": {},
       "columnCustomDisplayInfos": {},
       "data": [
        [
         "https://image.tmdb.org/t/p/original//l2yN6hREdMOSTwhOj7JLaY2Oem5.jpg",
         1.0E7,
         null,
         "2021-04-03T16:51:31.5700000",
         8781,
         "https://www.imdb.com/title/tt1161418",
         "A teenager attends a fantasy writers' convention where he discovers his idea has been stolen by an established novelist.",
         "https://image.tmdb.org/t/p/w342//u31zMn14ROWKjB7ct9oBuXaJLqY.jpg",
         9.9,
         "2009-09-30T00:00:00",
         0.0,
         89,
         "Oinus, Ainous, Anous, Odious.",
         "Gentlemen Broncos",
         "https://www.themoviedb.org/movie/22820",
         null,
         null,
         "2021-04-03"
        ],
        [
         "https://image.tmdb.org/t/p/original//1khytE1x9z7whNJxFQWpB0Xcw5r.jpg",
         1200000.0,
         null,
         "2021-04-03T16:51:31.5966667",
         8975,
         "https://www.imdb.com/title/tt0284929",
         "Docu-drama based on the life of Ted Bundy, a serial killer who killed at least 19 young women during the 1970's (though some sources say as many as 30 to 35 were murdered). Set from his college student years, to his first victims, his capture, escape from prison (twice), his final killing spree to his trial, conviction and execution.",
         "https://image.tmdb.org/t/p/w342//bh6wHjHxmuSyYL8jSFqtLlzMSGq.jpg",
         9.9,
         "2002-11-22T00:00:00",
         68716.0,
         99,
         "Not every serial killer fits the profile.",
         "Ted Bundy",
         "https://www.themoviedb.org/movie/34081",
         null,
         null,
         "2021-04-03"
        ],
        [
         "https://image.tmdb.org/t/p/original/",
         3.5E7,
         null,
         "2021-04-03T16:51:31.6100000",
         9060,
         "https://www.imdb.com/title/tt0123209",
         "A mentally challenged girl proves herself to be every bit as capable as her \"perfect\" sister when she moves into an apartment and begins going to college.",
         "https://image.tmdb.org/t/p/w342//s6DNg3HOeVmzxm3wSwL0cXSQQLq.jpg",
         9.9,
         "1999-02-26T00:00:00",
         0.0,
         130,
         "A love story for the romantically challenged.",
         "The Other Sister",
         "https://www.themoviedb.org/movie/18417",
         null,
         null,
         "2021-04-03"
        ],
        [
         "https://image.tmdb.org/t/p/original//pFfCyTolgfcfYRQod6PEmbguUPV.jpg",
         0.0,
         null,
         "2021-04-03T16:51:31.6366667",
         9278,
         "https://www.imdb.com/title/tt0086859",
         "She was a beautiful fugitive. Fleeing from corruption. From power. He was a professional athlete past his prime. Hired to find her, he grew to love her. Love turned to obsession. Obsession turned to murder. And now the price of freedom might be nothing less than their lives.",
         "https://image.tmdb.org/t/p/w342//Ac0m41QYoxYBfRoU4cL491vOfEv.jpg",
         9.9,
         "1984-03-02T00:00:00",
         0.0,
         128,
         "Sometimes love is the most dangerous game of all.",
         "Against All Odds",
         "https://www.themoviedb.org/movie/22160",
         null,
         null,
         "2021-04-03"
        ],
        [
         "https://image.tmdb.org/t/p/original//g9KMwbdX2OwlHqt9zeiFzA36qAY.jpg",
         0.0,
         null,
         "2021-04-03T16:51:31.6600000",
         9417,
         "https://www.imdb.com/title/tt0091637",
         "An unconventional undercover Chicago cop and his partner are recruited to commit the murder of a New Orleans criminal kingpin.",
         "https://image.tmdb.org/t/p/w342//e3GLsfBLy7fdM3dJKAkzQlTIqII.jpg",
         9.9,
         "1986-12-19T00:00:00",
         1.2303904E7,
         106,
         "When passion and hatred know no limits, expect no mercy.",
         "No Mercy",
         "https://www.themoviedb.org/movie/26789",
         null,
         null,
         "2021-04-03"
        ],
        [
         "https://image.tmdb.org/t/p/original//lklIDRhOtDHs3SbiIXWFdyDEPym.jpg",
         0.0,
         null,
         "2021-04-03T16:51:31.6700000",
         9471,
         "https://www.imdb.com/title/tt0087414",
         "Ex-gangster Willie Parker has betrayed his former \"colleagues\" and now lives in Spain where he thinks he can hide from their vengeance...",
         "https://image.tmdb.org/t/p/w342//hKNIz9iids9uPyEpmJjLFM96KXI.jpg",
         9.9,
         "1984-09-12T00:00:00",
         0.0,
         98,
         "Even bad guys have bad days",
         "The Hit",
         "https://www.themoviedb.org/movie/19621",
         null,
         null,
         "2021-04-03"
        ],
        [
         "https://image.tmdb.org/t/p/original//uD6gMyUn6sKVLyLYChOOLGZKGF2.jpg",
         0.0,
         null,
         "2021-04-03T16:51:31.6766667",
         9542,
         "https://www.imdb.com/title/tt0067698",
         "Boston, 1920. Italian immigrants Nicola Sacco and Bartolomeo Vanzetti are charged and unfairly tried for murder on the basis of their anarchic political convictions.",
         "https://image.tmdb.org/t/p/w342//lnaDudmzjNUF3EJHlkExFVwaFf.jpg",
         9.9,
         "1971-03-16T00:00:00",
         0.0,
         120,
         "",
         "Sacco & Vanzetti",
         "https://www.themoviedb.org/movie/48211",
         null,
         null,
         "2021-04-03"
        ],
        [
         "https://image.tmdb.org/t/p/original//zv6EWmtNg5nRNOfWihFJcV9lUty.jpg",
         0.0,
         null,
         "2021-04-03T16:51:31.6800000",
         9578,
         "https://www.imdb.com/title/tt7214842",
         "Penetrating the insular world of New York's Hasidic community, focusing on three individuals driven to break away despite threats of retaliation.",
         "https://image.tmdb.org/t/p/w342//kc0XgWgBC8sfoWls5TBxoc6ukDA.jpg",
         9.9,
         "2017-09-10T00:00:00",
         0.0,
         95,
         "Leave the faith. Pay the price",
         "One of Us",
         "https://www.themoviedb.org/movie/474569",
         null,
         null,
         "2021-04-03"
        ],
        [
         "https://image.tmdb.org/t/p/original//juugwVQ6OO0WFJcMlKhm3KVAr49.jpg",
         0.0,
         null,
         "2021-04-03T16:51:31.6933333",
         9658,
         "https://www.imdb.com/title/tt0101590",
         "A Liberal activist lawyer alienated his daughter Maggie years ago when she discovered his many affairs. Now a conservative corporate lawyer, Maggie agrees to go up against her father in court. To gain promotion, she must defend an auto manufacturer against charges that their explosion-prone station wagons are unsafe. As her mother begs for peace, Maggie takes on her dad in a trial that turns increasingly personal and nasty.",
         "https://image.tmdb.org/t/p/w342//9BOsvZL2DuE2JFGYOssynTjs8K6.jpg",
         9.9,
         "1991-03-15T00:00:00",
         0.0,
         105,
         "A father and a daughter, divided by a case, endangered by the truth.",
         "Class Action",
         "https://www.themoviedb.org/movie/15771",
         null,
         null,
         "2021-04-03"
        ],
        [
         "https://image.tmdb.org/t/p/original//gCUdoaqA2lOVq7hj0JZbIr5f3Em.jpg",
         0.0,
         null,
         "2021-04-03T16:51:31.6933333",
         9662,
         "https://www.imdb.com/title/tt0158493",
         "Tommy Brown and Sincere are best friends as well as infamous and ruthless criminals and shot-callers in the hood. Respected by many but feared by all.  As the police are closing in on them and new players are looking for a come up, will their reign last?",
         "https://image.tmdb.org/t/p/w342//A4aTsOd0X2080Pluv665D2okZj7.jpg",
         9.9,
         "1998-11-04T00:00:00",
         0.0,
         96,
         "Money, power, respect... but who's got your back?",
         "Belly",
         "https://www.themoviedb.org/movie/12888",
         null,
         null,
         "2021-04-03"
        ]
       ],
       "datasetInfos": [],
       "dbfsResultPath": null,
       "isJsonSchema": true,
       "metadata": {},
       "overflow": false,
       "plotOptions": {
        "customPlotOptions": {},
        "displayType": "table",
        "pivotAggregation": null,
        "pivotColumns": null,
        "xColumns": null,
        "yColumns": null
       },
       "removedWidgets": [],
       "schema": [
        {
         "metadata": "{}",
         "name": "BackdropUrl",
         "type": "\"string\""
        },
        {
         "metadata": "{}",
         "name": "Budget",
         "type": "\"double\""
        },
        {
         "metadata": "{}",
         "name": "CreatedBy",
         "type": "\"string\""
        },
        {
         "metadata": "{}",
         "name": "CreatedDate",
         "type": "\"string\""
        },
        {
         "metadata": "{}",
         "name": "Id",
         "type": "\"long\""
        },
        {
         "metadata": "{}",
         "name": "ImdbUrl",
         "type": "\"string\""
        },
        {
         "metadata": "{}",
         "name": "Overview",
         "type": "\"string\""
        },
        {
         "metadata": "{}",
         "name": "PosterUrl",
         "type": "\"string\""
        },
        {
         "metadata": "{}",
         "name": "Price",
         "type": "\"double\""
        },
        {
         "metadata": "{}",
         "name": "ReleaseDate",
         "type": "\"string\""
        },
        {
         "metadata": "{}",
         "name": "Revenue",
         "type": "\"double\""
        },
        {
         "metadata": "{}",
         "name": "RunTime",
         "type": "\"long\""
        },
        {
         "metadata": "{}",
         "name": "Tagline",
         "type": "\"string\""
        },
        {
         "metadata": "{}",
         "name": "Title",
         "type": "\"string\""
        },
        {
         "metadata": "{}",
         "name": "TmdbUrl",
         "type": "\"string\""
        },
        {
         "metadata": "{}",
         "name": "UpdatedBy",
         "type": "\"string\""
        },
        {
         "metadata": "{}",
         "name": "UpdatedDate",
         "type": "\"string\""
        },
        {
         "metadata": "{}",
         "name": "p_date",
         "type": "\"date\""
        }
       ],
       "type": "table"
      }
     },
     "output_type": "display_data"
    }
   ],
   "source": [
    "display(Movie_df_clean.limit(10))"
   ]
  },
  {
   "cell_type": "markdown",
   "metadata": {
    "application/vnd.databricks.v1+cell": {
     "cellMetadata": {},
     "inputWidgets": {},
     "nuid": "0ec25abf-f645-40cb-8ce6-9bbd32748a4f",
     "showTitle": false,
     "title": ""
    }
   },
   "source": [
    "##write the cleaned batch to silver table"
   ]
  },
  {
   "cell_type": "code",
   "execution_count": 0,
   "metadata": {
    "application/vnd.databricks.v1+cell": {
     "cellMetadata": {
      "byteLimit": 2048000,
      "rowLimit": 10000
     },
     "inputWidgets": {},
     "nuid": "3cb3d047-8d29-4d49-ae0d-3a8c61a2756b",
     "showTitle": false,
     "title": ""
    }
   },
   "outputs": [],
   "source": [
    "#save the partition file to DBFS\n",
    "(\n",
    "    Movie_df_clean.select(\n",
    "        \"*\",\n",
    "    )\n",
    "    .write.format(\"delta\")\n",
    "    .mode(\"append\")\n",
    "    .partitionBy(\"p_date\")\n",
    "    .save(silverPath)\n",
    ")\n",
    "\n"
   ]
  },
  {
   "cell_type": "code",
   "execution_count": 0,
   "metadata": {
    "application/vnd.databricks.v1+cell": {
     "cellMetadata": {
      "byteLimit": 2048000,
      "rowLimit": 10000
     },
     "inputWidgets": {},
     "nuid": "131856fa-3edf-4d50-93f2-bde203c67cb3",
     "showTitle": false,
     "title": ""
    }
   },
   "outputs": [],
   "source": [
    "#save the other two silver tables to database\n",
    "Genre_df.write.format(\"delta\").mode('overwrite').saveAsTable('Genres')\n",
    "OriginalLanguage_df.write.format(\"delta\").mode('overwrite').saveAsTable('OriginalLanguage')\n"
   ]
  },
  {
   "cell_type": "code",
   "execution_count": 0,
   "metadata": {
    "application/vnd.databricks.v1+cell": {
     "cellMetadata": {
      "byteLimit": 2048000,
      "rowLimit": 10000
     },
     "inputWidgets": {},
     "nuid": "b33b7d73-7f54-4844-bafa-fcc58262f912",
     "showTitle": false,
     "title": ""
    }
   },
   "outputs": [
    {
     "output_type": "stream",
     "name": "stdout",
     "output_type": "stream",
     "text": [
      "Out[40]: DataFrame[]"
     ]
    }
   ],
   "source": [
    "spark.sql(\n",
    "    \"\"\"\n",
    "DROP TABLE IF EXISTS Movies_silver\n",
    "\"\"\"\n",
    ")\n",
    "\n",
    "spark.sql(\n",
    "    f\"\"\"\n",
    "CREATE TABLE Movies_silver\n",
    "USING DELTA\n",
    "LOCATION \"{silverPath}\"\n",
    "\"\"\"\n",
    ")"
   ]
  },
  {
   "cell_type": "code",
   "execution_count": 0,
   "metadata": {
    "application/vnd.databricks.v1+cell": {
     "cellMetadata": {
      "byteLimit": 2048000,
      "implicitDf": true,
      "rowLimit": 10000
     },
     "inputWidgets": {},
     "nuid": "1c846697-6e32-44d2-a8c9-729291f1d0de",
     "showTitle": false,
     "title": ""
    }
   },
   "outputs": [
    {
     "output_type": "display_data",
     "data": {
      "text/html": [
       "<style scoped>\n",
       "  .table-result-container {\n",
       "    max-height: 300px;\n",
       "    overflow: auto;\n",
       "  }\n",
       "  table, th, td {\n",
       "    border: 1px solid black;\n",
       "    border-collapse: collapse;\n",
       "  }\n",
       "  th, td {\n",
       "    padding: 5px;\n",
       "  }\n",
       "  th {\n",
       "    text-align: left;\n",
       "  }\n",
       "</style><div class='table-result-container'><table class='table-result'><thead style='background-color: white'><tr><th>BackdropUrl</th><th>Budget</th><th>CreatedBy</th><th>CreatedDate</th><th>Id</th><th>ImdbUrl</th><th>Overview</th><th>PosterUrl</th><th>Price</th><th>ReleaseDate</th><th>Revenue</th><th>RunTime</th><th>Tagline</th><th>Title</th><th>TmdbUrl</th><th>UpdatedBy</th><th>UpdatedDate</th><th>p_date</th></tr></thead><tbody><tr><td>https://image.tmdb.org/t/p/original//s3TBrRGB1iav7gFOCNx3H31MoES.jpg</td><td>1.6E8</td><td>null</td><td>2021-04-03T16:51:30.1633333</td><td>1</td><td>https://www.imdb.com/title/tt1375666</td><td>Cobb, a skilled thief who commits corporate espionage by infiltrating the subconscious of his targets is offered a chance to regain his old life as payment for a task considered to be impossible: \"inception\", the implantation of another person's idea into a target's subconscious.</td><td>https://image.tmdb.org/t/p/w342//9gk7adHYeDvHkCSEqAvQNLV5Uge.jpg</td><td>9.9</td><td>2010-07-15T00:00:00</td><td>8.25532764E8</td><td>148</td><td>Your mind is the scene of the crime.</td><td>Inception</td><td>https://www.themoviedb.org/movie/27205</td><td>null</td><td>null</td><td>2021-04-03</td></tr><tr><td>https://image.tmdb.org/t/p/original//s3TBrRGB1iav7gFOCNx3H31MoES.jpg</td><td>1.6E8</td><td>null</td><td>2021-04-03T16:51:30.1633333</td><td>1</td><td>https://www.imdb.com/title/tt1375666</td><td>Cobb, a skilled thief who commits corporate espionage by infiltrating the subconscious of his targets is offered a chance to regain his old life as payment for a task considered to be impossible: \"inception\", the implantation of another person's idea into a target's subconscious.</td><td>https://image.tmdb.org/t/p/w342//9gk7adHYeDvHkCSEqAvQNLV5Uge.jpg</td><td>9.9</td><td>2010-07-15T00:00:00</td><td>8.25532764E8</td><td>148</td><td>Your mind is the scene of the crime.</td><td>Inception</td><td>https://www.themoviedb.org/movie/27205</td><td>null</td><td>null</td><td>2021-04-03</td></tr><tr><td>https://image.tmdb.org/t/p/original//s3TBrRGB1iav7gFOCNx3H31MoES.jpg</td><td>1.6E8</td><td>null</td><td>2021-04-03T16:51:30.1633333</td><td>1</td><td>https://www.imdb.com/title/tt1375666</td><td>Cobb, a skilled thief who commits corporate espionage by infiltrating the subconscious of his targets is offered a chance to regain his old life as payment for a task considered to be impossible: \"inception\", the implantation of another person's idea into a target's subconscious.</td><td>https://image.tmdb.org/t/p/w342//9gk7adHYeDvHkCSEqAvQNLV5Uge.jpg</td><td>9.9</td><td>2010-07-15T00:00:00</td><td>8.25532764E8</td><td>148</td><td>Your mind is the scene of the crime.</td><td>Inception</td><td>https://www.themoviedb.org/movie/27205</td><td>null</td><td>null</td><td>2021-04-03</td></tr><tr><td>https://image.tmdb.org/t/p/original//xJHokMbljvjADYdit5fK5VQsXEG.jpg</td><td>1.65E8</td><td>null</td><td>2021-04-03T16:51:30.1633333</td><td>2</td><td>https://www.imdb.com/title/tt0816692</td><td>The adventures of a group of explorers who make use of a newly discovered wormhole to surpass the limitations on human space travel and conquer the vast distances involved in an interstellar voyage.</td><td>https://image.tmdb.org/t/p/w342//gEU2QniE6E77NI6lCU6MxlNBvIx.jpg</td><td>9.9</td><td>2014-11-05T00:00:00</td><td>6.75120017E8</td><td>169</td><td>Mankind was born on Earth. It was never meant to die here.</td><td>Interstellar</td><td>https://www.themoviedb.org/movie/157336</td><td>null</td><td>null</td><td>2021-04-03</td></tr><tr><td>https://image.tmdb.org/t/p/original//xJHokMbljvjADYdit5fK5VQsXEG.jpg</td><td>1.65E8</td><td>null</td><td>2021-04-03T16:51:30.1633333</td><td>2</td><td>https://www.imdb.com/title/tt0816692</td><td>The adventures of a group of explorers who make use of a newly discovered wormhole to surpass the limitations on human space travel and conquer the vast distances involved in an interstellar voyage.</td><td>https://image.tmdb.org/t/p/w342//gEU2QniE6E77NI6lCU6MxlNBvIx.jpg</td><td>9.9</td><td>2014-11-05T00:00:00</td><td>6.75120017E8</td><td>169</td><td>Mankind was born on Earth. It was never meant to die here.</td><td>Interstellar</td><td>https://www.themoviedb.org/movie/157336</td><td>null</td><td>null</td><td>2021-04-03</td></tr></tbody></table></div>"
      ]
     },
     "metadata": {
      "application/vnd.databricks.v1+output": {
       "addedWidgets": {},
       "aggData": [],
       "aggError": "",
       "aggOverflow": false,
       "aggSchema": [],
       "aggSeriesLimitReached": false,
       "aggType": "",
       "arguments": {},
       "columnCustomDisplayInfos": {},
       "data": [
        [
         "https://image.tmdb.org/t/p/original//s3TBrRGB1iav7gFOCNx3H31MoES.jpg",
         1.6E8,
         null,
         "2021-04-03T16:51:30.1633333",
         1,
         "https://www.imdb.com/title/tt1375666",
         "Cobb, a skilled thief who commits corporate espionage by infiltrating the subconscious of his targets is offered a chance to regain his old life as payment for a task considered to be impossible: \"inception\", the implantation of another person's idea into a target's subconscious.",
         "https://image.tmdb.org/t/p/w342//9gk7adHYeDvHkCSEqAvQNLV5Uge.jpg",
         9.9,
         "2010-07-15T00:00:00",
         8.25532764E8,
         148,
         "Your mind is the scene of the crime.",
         "Inception",
         "https://www.themoviedb.org/movie/27205",
         null,
         null,
         "2021-04-03"
        ],
        [
         "https://image.tmdb.org/t/p/original//s3TBrRGB1iav7gFOCNx3H31MoES.jpg",
         1.6E8,
         null,
         "2021-04-03T16:51:30.1633333",
         1,
         "https://www.imdb.com/title/tt1375666",
         "Cobb, a skilled thief who commits corporate espionage by infiltrating the subconscious of his targets is offered a chance to regain his old life as payment for a task considered to be impossible: \"inception\", the implantation of another person's idea into a target's subconscious.",
         "https://image.tmdb.org/t/p/w342//9gk7adHYeDvHkCSEqAvQNLV5Uge.jpg",
         9.9,
         "2010-07-15T00:00:00",
         8.25532764E8,
         148,
         "Your mind is the scene of the crime.",
         "Inception",
         "https://www.themoviedb.org/movie/27205",
         null,
         null,
         "2021-04-03"
        ],
        [
         "https://image.tmdb.org/t/p/original//s3TBrRGB1iav7gFOCNx3H31MoES.jpg",
         1.6E8,
         null,
         "2021-04-03T16:51:30.1633333",
         1,
         "https://www.imdb.com/title/tt1375666",
         "Cobb, a skilled thief who commits corporate espionage by infiltrating the subconscious of his targets is offered a chance to regain his old life as payment for a task considered to be impossible: \"inception\", the implantation of another person's idea into a target's subconscious.",
         "https://image.tmdb.org/t/p/w342//9gk7adHYeDvHkCSEqAvQNLV5Uge.jpg",
         9.9,
         "2010-07-15T00:00:00",
         8.25532764E8,
         148,
         "Your mind is the scene of the crime.",
         "Inception",
         "https://www.themoviedb.org/movie/27205",
         null,
         null,
         "2021-04-03"
        ],
        [
         "https://image.tmdb.org/t/p/original//xJHokMbljvjADYdit5fK5VQsXEG.jpg",
         1.65E8,
         null,
         "2021-04-03T16:51:30.1633333",
         2,
         "https://www.imdb.com/title/tt0816692",
         "The adventures of a group of explorers who make use of a newly discovered wormhole to surpass the limitations on human space travel and conquer the vast distances involved in an interstellar voyage.",
         "https://image.tmdb.org/t/p/w342//gEU2QniE6E77NI6lCU6MxlNBvIx.jpg",
         9.9,
         "2014-11-05T00:00:00",
         6.75120017E8,
         169,
         "Mankind was born on Earth. It was never meant to die here.",
         "Interstellar",
         "https://www.themoviedb.org/movie/157336",
         null,
         null,
         "2021-04-03"
        ],
        [
         "https://image.tmdb.org/t/p/original//xJHokMbljvjADYdit5fK5VQsXEG.jpg",
         1.65E8,
         null,
         "2021-04-03T16:51:30.1633333",
         2,
         "https://www.imdb.com/title/tt0816692",
         "The adventures of a group of explorers who make use of a newly discovered wormhole to surpass the limitations on human space travel and conquer the vast distances involved in an interstellar voyage.",
         "https://image.tmdb.org/t/p/w342//gEU2QniE6E77NI6lCU6MxlNBvIx.jpg",
         9.9,
         "2014-11-05T00:00:00",
         6.75120017E8,
         169,
         "Mankind was born on Earth. It was never meant to die here.",
         "Interstellar",
         "https://www.themoviedb.org/movie/157336",
         null,
         null,
         "2021-04-03"
        ]
       ],
       "datasetInfos": [],
       "dbfsResultPath": null,
       "isJsonSchema": true,
       "metadata": {},
       "overflow": false,
       "plotOptions": {
        "customPlotOptions": {},
        "displayType": "table",
        "pivotAggregation": null,
        "pivotColumns": null,
        "xColumns": null,
        "yColumns": null
       },
       "removedWidgets": [],
       "schema": [
        {
         "metadata": "{}",
         "name": "BackdropUrl",
         "type": "\"string\""
        },
        {
         "metadata": "{}",
         "name": "Budget",
         "type": "\"double\""
        },
        {
         "metadata": "{}",
         "name": "CreatedBy",
         "type": "\"string\""
        },
        {
         "metadata": "{}",
         "name": "CreatedDate",
         "type": "\"string\""
        },
        {
         "metadata": "{}",
         "name": "Id",
         "type": "\"long\""
        },
        {
         "metadata": "{}",
         "name": "ImdbUrl",
         "type": "\"string\""
        },
        {
         "metadata": "{}",
         "name": "Overview",
         "type": "\"string\""
        },
        {
         "metadata": "{}",
         "name": "PosterUrl",
         "type": "\"string\""
        },
        {
         "metadata": "{}",
         "name": "Price",
         "type": "\"double\""
        },
        {
         "metadata": "{}",
         "name": "ReleaseDate",
         "type": "\"string\""
        },
        {
         "metadata": "{}",
         "name": "Revenue",
         "type": "\"double\""
        },
        {
         "metadata": "{}",
         "name": "RunTime",
         "type": "\"long\""
        },
        {
         "metadata": "{}",
         "name": "Tagline",
         "type": "\"string\""
        },
        {
         "metadata": "{}",
         "name": "Title",
         "type": "\"string\""
        },
        {
         "metadata": "{}",
         "name": "TmdbUrl",
         "type": "\"string\""
        },
        {
         "metadata": "{}",
         "name": "UpdatedBy",
         "type": "\"string\""
        },
        {
         "metadata": "{}",
         "name": "UpdatedDate",
         "type": "\"string\""
        },
        {
         "metadata": "{}",
         "name": "p_date",
         "type": "\"date\""
        }
       ],
       "type": "table"
      }
     },
     "output_type": "display_data"
    }
   ],
   "source": [
    "%sql\n",
    "select * from Movies_silver LIMIT 5"
   ]
  },
  {
   "cell_type": "markdown",
   "metadata": {
    "application/vnd.databricks.v1+cell": {
     "cellMetadata": {},
     "inputWidgets": {},
     "nuid": "cd7b3e0f-feef-4911-a493-fa1dccfacfb5",
     "showTitle": false,
     "title": ""
    }
   },
   "source": [
    "## Update Bronze table to Reflect the Loads"
   ]
  },
  {
   "cell_type": "markdown",
   "metadata": {
    "application/vnd.databricks.v1+cell": {
     "cellMetadata": {},
     "inputWidgets": {},
     "nuid": "fcaea11a-3152-4e05-991b-3333863532de",
     "showTitle": false,
     "title": ""
    }
   },
   "source": [
    "###Step 1: Update Clean records"
   ]
  },
  {
   "cell_type": "code",
   "execution_count": 0,
   "metadata": {
    "application/vnd.databricks.v1+cell": {
     "cellMetadata": {
      "byteLimit": 2048000,
      "rowLimit": 10000
     },
     "inputWidgets": {},
     "nuid": "912b6b18-2413-4c72-962f-41bcc35ea231",
     "showTitle": false,
     "title": ""
    }
   },
   "outputs": [],
   "source": [
    "# ANSWER\n",
    "from delta.tables import DeltaTable\n",
    "\n",
    "bronzeTable = DeltaTable.forPath(spark, bronzePath)\n",
    "silverAugmented = Movie_df_clean.withColumn(\"status\", lit(\"loaded\"))\n",
    "\n",
    "\n",
    "update_match = \"bronze.Id = clean.Id\"\n",
    "update = {\"status\": \"clean.status\"}\n",
    "\n",
    "(\n",
    "    bronzeTable.alias(\"bronze\")\n",
    "    .merge(silverAugmented.alias(\"clean\"), update_match)\n",
    "    .whenMatchedUpdate(set=update)\n",
    "    .execute()\n",
    ")"
   ]
  },
  {
   "cell_type": "markdown",
   "metadata": {
    "application/vnd.databricks.v1+cell": {
     "cellMetadata": {},
     "inputWidgets": {},
     "nuid": "22ec40c9-f20b-4475-abf7-7aeb747f852a",
     "showTitle": false,
     "title": ""
    }
   },
   "source": [
    "###Step 2: Update Quarantined records"
   ]
  },
  {
   "cell_type": "code",
   "execution_count": 0,
   "metadata": {
    "application/vnd.databricks.v1+cell": {
     "cellMetadata": {
      "byteLimit": 2048000,
      "rowLimit": 10000
     },
     "inputWidgets": {},
     "nuid": "dcf7d3e2-0745-4cca-a38c-7e980db0c398",
     "showTitle": false,
     "title": ""
    }
   },
   "outputs": [],
   "source": [
    "#First we handle the problematic values\n",
    "Movie_df_quarantine = Movie_df_quarantine.withColumn('runtime',abs(col('runtime')))\n",
    "Movie_df_quarantine = Movie_df_quarantine.dropDuplicates()"
   ]
  },
  {
   "cell_type": "code",
   "execution_count": 0,
   "metadata": {
    "application/vnd.databricks.v1+cell": {
     "cellMetadata": {
      "byteLimit": 2048000,
      "rowLimit": 10000
     },
     "inputWidgets": {},
     "nuid": "23548dda-fede-4c5a-8de9-dfb55c5d0be1",
     "showTitle": false,
     "title": ""
    }
   },
   "outputs": [],
   "source": [
    "# \n",
    "bronzeTable = DeltaTable.forPath(spark, bronzePath)\n",
    "silverAugmented = Movie_df_quarantine.withColumn(\n",
    "    \"status\", lit(\"quarantined\")\n",
    ")\n",
    "\n",
    "update_match = \"bronze.Id = quarantine.Id\"\n",
    "update = {\"status\": \"quarantine.status\"}\n",
    "\n",
    "(\n",
    "    bronzeTable.alias(\"bronze\")   \n",
    "    .merge(silverAugmented.alias(\"quarantine\"), update_match)\n",
    "    .whenMatchedUpdate(set=update)\n",
    "    .execute()\n",
    ")\n"
   ]
  }
 ],
 "metadata": {
  "application/vnd.databricks.v1+notebook": {
   "dashboards": [],
   "language": "python",
   "notebookMetadata": {
    "mostRecentlyExecutedCommandWithImplicitDF": {
     "commandId": 4015613113475993,
     "dataframes": [
      "_sqldf"
     ]
    },
    "pythonIndentUnit": 4
   },
   "notebookName": "ADB_final",
   "widgets": {
    "ingestdate_widget": {
     "currentValue": "2023-08-05",
     "nuid": "ea3cd389-49b3-47fc-9823-baa4874f31f4",
     "widgetInfo": {
      "widgetType": "dropdown",
      "defaultValue": "2023-08-05",
      "label": null,
      "name": "ingestdate_widget",
      "options": {
       "widgetType": "dropdown",
       "choices": [
        "2023-08-05"
       ]
      }
     }
    }
   }
  }
 },
 "nbformat": 4,
 "nbformat_minor": 0
}
